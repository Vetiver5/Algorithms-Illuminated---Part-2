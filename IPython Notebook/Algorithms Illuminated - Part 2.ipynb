{
 "cells": [
  {
   "cell_type": "markdown",
   "metadata": {},
   "source": [
    "## Graph Representation in Adjacency List Format"
   ]
  },
  {
   "cell_type": "code",
   "execution_count": 3,
   "metadata": {},
   "outputs": [],
   "source": [
    "# Graph Representation in Adjacency List Format\n",
    "class Graph:\n",
    "    def __init__(self):\n",
    "        self.graph = {}\n",
    "    # You can first add vertices and then try to add edges using addEdge() method or else\n",
    "    # You can directly use addEdge() method to directly add both vertices and edges. Both works same way\n",
    "    def addVertex(self, key):\n",
    "        if key not in self.graph:\n",
    "            self.graph[key] = [{}, False]\n",
    "    # You can directly use addEdge() method to directly add both vertices and edges instead of first adding\n",
    "    # vertices and then in the next step add edges.\n",
    "    # Edge is of the format (key, neighbour, weight=optional) as a tuple or a list with [key, neighbour, weight=optional]\n",
    "    # Weight is optional. If you don't pass weight it would assign weight as None.\n",
    "    def addEdge(self, edge):\n",
    "        if len(edge) == 2:\n",
    "            val = None\n",
    "        elif len(edge) == 3:\n",
    "            val = edge[2]\n",
    "        key = edge[0]\n",
    "        neighbour = edge[1]\n",
    "        if key not in self.graph:\n",
    "            self.graph[key] = [{}, False]\n",
    "        if neighbour not in self.graph:\n",
    "            self.graph[neighbour] = [{}, False]\n",
    "        if neighbour not in self.graph[key][0]:\n",
    "                self.graph[key][0][neighbour] = val\n",
    "    # prints the graph in adjacency list format\n",
    "    def show(self):\n",
    "        print(self.graph)\n",
    "    # returns weight of the edge between the passed key and the neighbour \n",
    "    def getWeight(self, key, neighbour):\n",
    "        if key in self.graph:\n",
    "            if neighbour in self.graph[key][0]:\n",
    "                return self.graph[key][0][neighbour]\n",
    "        return None\n",
    "    # returns all the edges of the passed key as a list along with the weight of their respective edge;\n",
    "    # For ex, if key='v1' is connected to 'v2' with weight 3, and is connected to 'v3' with no weight, then \n",
    "    # getEdges('v1') returns [('v2', 3), ('v3', None)]\n",
    "    def getEdges(self, key):\n",
    "        if key not in self.graph:\n",
    "            return None\n",
    "        total = []\n",
    "        for neighbour, weight in self.graph[key][0].items():\n",
    "            total.append((neighbour, weight))\n",
    "        return total\n",
    "    # returns all the vertices of the neighbours of the passed key;\n",
    "    # For ex, if key='v1' is connected to 'v2' with weight 3, and is connected to 'v3' with no weight, then \n",
    "    # getNeighbours('v1') returns ['v2', 'v3']\n",
    "    def getNeighbours(self, key):\n",
    "        if key not in self.graph:\n",
    "            return None\n",
    "        total = []\n",
    "        for vertex in self.graph[key][0].keys():\n",
    "            total.append(vertex)\n",
    "        return total\n",
    "    # returns all the edges of the current graph;\n",
    "    # For ex, if key='v1' is connected to 'v2' with weight 3, and is connected to 'v3' with no weight, then \n",
    "    # getAllEdges() returns [('v1', v2', 3), ('v1', 'v3', None)]\n",
    "    def getAllEdges(self):\n",
    "        total = []\n",
    "        for key in self.graph.keys():\n",
    "            for neighbour, weight in self.graph[key][0].items():\n",
    "                total.append((key, neighbour, weight))\n",
    "        return total\n",
    "    # returns all the vertices of the current graph;\n",
    "    # For ex, if graph has 3 keys 'v1', 'v2', 'v3', then \n",
    "    # getAllVertices() returns ['v1', 'v2', 'v3']\n",
    "    def getAllVertices(self):\n",
    "        total = []\n",
    "        for key in self.graph.keys():\n",
    "            total.append(key)\n",
    "        return total\n",
    "    def copy(self):\n",
    "        return self.graph"
   ]
  },
  {
   "cell_type": "code",
   "execution_count": 21,
   "metadata": {},
   "outputs": [],
   "source": [
    "grph = Graph()"
   ]
  },
  {
   "cell_type": "markdown",
   "metadata": {},
   "source": [
    "#### Adding Vertices and Edges to the Graph"
   ]
  },
  {
   "cell_type": "markdown",
   "metadata": {},
   "source": [
    "##### Method 1 (Method 1 and Method 2 works the same way)"
   ]
  },
  {
   "cell_type": "code",
   "execution_count": 22,
   "metadata": {},
   "outputs": [
    {
     "name": "stdout",
     "output_type": "stream",
     "text": [
      "{'v1': [{'v2': None, 'v3': 7}, False], 'v2': [{'v1': 2}, False], 'v3': [{}, False]}\n"
     ]
    }
   ],
   "source": [
    "# We will first add Vertices to Graph\n",
    "lst = [\"v1\", \"v2\", \"v1\"]\n",
    "for item in lst:\n",
    "    grph.addVertex(item)\n",
    "# then, we add edges or connections to above mentioned vertices\n",
    "lst = [('v1', 'v2'), ('v2', 'v1', 2),('v1', 'v3', 7)]\n",
    "for ele in lst:\n",
    "    grph.addEdge(ele)\n",
    "grph.show()"
   ]
  },
  {
   "cell_type": "markdown",
   "metadata": {},
   "source": [
    "##### Method 2 (Method 1 and Method 2 works the same way)"
   ]
  },
  {
   "cell_type": "code",
   "execution_count": 23,
   "metadata": {},
   "outputs": [
    {
     "name": "stdout",
     "output_type": "stream",
     "text": [
      "{'v1': [{'v2': None, 'v3': 7}, False], 'v2': [{'v1': 2}, False], 'v3': [{}, False]}\n"
     ]
    }
   ],
   "source": [
    "# We will directly add connections to graph with just passing edges without first adding vertices\n",
    "# Both Method 2 and Method 1 works the same way\n",
    "lst = [('v1', 'v2'), ('v2', 'v1', 2),('v1', 'v3', 7)]\n",
    "for ele in lst:\n",
    "    grph.addEdge(ele)\n",
    "grph.show()"
   ]
  },
  {
   "cell_type": "code",
   "execution_count": 24,
   "metadata": {},
   "outputs": [
    {
     "name": "stdout",
     "output_type": "stream",
     "text": [
      "None\n"
     ]
    }
   ],
   "source": [
    "print(grph.getWeight('v1', 'v2'))"
   ]
  },
  {
   "cell_type": "code",
   "execution_count": 25,
   "metadata": {},
   "outputs": [
    {
     "data": {
      "text/plain": [
       "[('v2', None), ('v3', 7)]"
      ]
     },
     "execution_count": 25,
     "metadata": {},
     "output_type": "execute_result"
    }
   ],
   "source": [
    "grph.getEdges('v1')"
   ]
  },
  {
   "cell_type": "code",
   "execution_count": 26,
   "metadata": {},
   "outputs": [
    {
     "data": {
      "text/plain": [
       "['v2', 'v3']"
      ]
     },
     "execution_count": 26,
     "metadata": {},
     "output_type": "execute_result"
    }
   ],
   "source": [
    "grph.getNeighbours('v1')"
   ]
  },
  {
   "cell_type": "code",
   "execution_count": 27,
   "metadata": {},
   "outputs": [
    {
     "data": {
      "text/plain": [
       "[('v1', 'v2', None), ('v1', 'v3', 7), ('v2', 'v1', 2)]"
      ]
     },
     "execution_count": 27,
     "metadata": {},
     "output_type": "execute_result"
    }
   ],
   "source": [
    "grph.getAllEdges()"
   ]
  },
  {
   "cell_type": "code",
   "execution_count": 28,
   "metadata": {},
   "outputs": [
    {
     "data": {
      "text/plain": [
       "['v1', 'v2', 'v3']"
      ]
     },
     "execution_count": 28,
     "metadata": {},
     "output_type": "execute_result"
    }
   ],
   "source": [
    "grph.getAllVertices()"
   ]
  },
  {
   "cell_type": "code",
   "execution_count": 90,
   "metadata": {},
   "outputs": [
    {
     "name": "stdout",
     "output_type": "stream",
     "text": [
      "{'v1': [{'v2': None, 'v3': 7}, False], 'v2': [{'v1': 2}, False], 'v3': [{}, False]}\n"
     ]
    }
   ],
   "source": [
    "cpy = grph.copy()\n",
    "print(cpy)"
   ]
  },
  {
   "cell_type": "markdown",
   "metadata": {},
   "source": [
    "## Generic Search Algorithm (From Page No. 32)\n",
    "#### (Based on explanation with example in Page No. 33)"
   ]
  },
  {
   "cell_type": "code",
   "execution_count": 20,
   "metadata": {},
   "outputs": [],
   "source": [
    "def generic_search(graph, key):\n",
    "    from random import randint\n",
    "    graph[key][-1] = True\n",
    "    path = []\n",
    "    choose = []\n",
    "    for ele in graph.keys():\n",
    "        if graph[ele][-1] == True:\n",
    "            temp = []\n",
    "            for i in graph[ele][0].keys():\n",
    "                if graph[i][-1] == False:\n",
    "                    temp.append(i)\n",
    "            for j in temp:\n",
    "                choose.append((ele, j))\n",
    "        if choose:\n",
    "            rndm = randint(0, len(choose)-1)\n",
    "            if graph[choose[rndm][1]][-1] == False:\n",
    "                graph[choose[rndm][1]][-1] = True\n",
    "                path.append(choose[rndm])\n",
    "            choose.pop(rndm)\n",
    "    while choose:\n",
    "        rndm = randint(0, len(choose)-1)\n",
    "        if graph[choose[rndm][1]][-1] == False:\n",
    "            graph[choose[rndm][1]][-1] = True\n",
    "            path.append(choose[rndm])\n",
    "        choose.pop(rndm)\n",
    "    for item in path:\n",
    "        print(\"We can reach '{}' from '{}'\".format(item[1], key))"
   ]
  },
  {
   "cell_type": "code",
   "execution_count": 21,
   "metadata": {},
   "outputs": [
    {
     "name": "stdout",
     "output_type": "stream",
     "text": [
      "We can reach 'v' from 's'\n",
      "We can reach 'u' from 's'\n",
      "We can reach 'w' from 's'\n"
     ]
    }
   ],
   "source": [
    "# Undirected graph (Example from Page No. 31)\n",
    "edges = [('s', 'u'), ('s', 'v'), ('u', 'v'), ('u', 'w'), ('v', 'w'), ('u', 's'), ('v', 's'), ('v', 'u'), ('w', 'u'), ('w', 'v')]\n",
    "grph = Graph()\n",
    "for item in edges:\n",
    "    grph.addEdge(item)\n",
    "graph = grph.copy()\n",
    "\n",
    "generic_search(graph, 's')"
   ]
  },
  {
   "cell_type": "code",
   "execution_count": 22,
   "metadata": {},
   "outputs": [
    {
     "name": "stdout",
     "output_type": "stream",
     "text": [
      "We can reach 'v' from 's'\n",
      "We can reach 'u' from 's'\n"
     ]
    }
   ],
   "source": [
    "# directed graph (Example from Page No. 31)\n",
    "edges = [('s', 'u'), ('s', 'v'), ('u', 'v'), ('w', 'u'), ('w', 'v')]\n",
    "grph = Graph()\n",
    "for item in edges:\n",
    "    grph.addEdge(item)\n",
    "graph = grph.copy()\n",
    "\n",
    "generic_search(graph, 's')"
   ]
  },
  {
   "cell_type": "markdown",
   "metadata": {},
   "source": [
    "## Breadth First Search (From Page No. 39) [$O(Vertices + Edges)$]"
   ]
  },
  {
   "cell_type": "code",
   "execution_count": 98,
   "metadata": {},
   "outputs": [],
   "source": [
    "def breadth_first_search(graph, key):\n",
    "    graph[key][-1] = True\n",
    "    queue = [key]\n",
    "    for item in queue:\n",
    "        for neighbour in graph[item][0].keys():\n",
    "            if not graph[neighbour][-1]:\n",
    "                graph[neighbour][-1] = True\n",
    "                queue.append(neighbour)\n",
    "    return queue"
   ]
  },
  {
   "cell_type": "code",
   "execution_count": 105,
   "metadata": {},
   "outputs": [
    {
     "data": {
      "text/plain": [
       "{'s': [{'a': None, 'b': None}, False],\n",
       " 'a': [{'c': None}, False],\n",
       " 'c': [{'e': None, 'd': None}, False],\n",
       " 'b': [{'d': None, 'c': None}, False],\n",
       " 'd': [{'e': None}, False],\n",
       " 'e': [{}, False]}"
      ]
     },
     "execution_count": 105,
     "metadata": {},
     "output_type": "execute_result"
    }
   ],
   "source": [
    "# edges = [('v0', 'v1', 5), ('v1', 'v2', 4), ('v2', 'v3', 9), ('v3', 'v4', 7), ('v4', 'v0', 1), \n",
    "#          ('v0', 'v5', 2), ('v5', 'v4', 8), ('v3', 'v5', 3), ('v5', 'v2', 1)]\n",
    "edges = [('s', 'a'), ('a', 'c'), ('b', 'd'), ('s', 'b'), ('b', 'c'), ('c', 'e'), ('c', 'd'), ('d', 'e')]\n",
    "grph = Graph()\n",
    "for item in edges:\n",
    "    grph.addEdge(item)\n",
    "graph = grph.copy()\n",
    "graph"
   ]
  },
  {
   "cell_type": "code",
   "execution_count": 100,
   "metadata": {},
   "outputs": [
    {
     "name": "stdout",
     "output_type": "stream",
     "text": [
      "['s', 'a', 'b', 'c', 'd', 'e']\n"
     ]
    }
   ],
   "source": [
    "print(breadth_first_search(graph, 's'))"
   ]
  },
  {
   "cell_type": "markdown",
   "metadata": {},
   "source": [
    "## Augmented Breadth First Search (From Page No. 44) [$O(Vertices + Edges)$]"
   ]
  },
  {
   "cell_type": "code",
   "execution_count": 23,
   "metadata": {},
   "outputs": [],
   "source": [
    "def augmented_bfs(graph, key): \n",
    "    for ele in graph.keys():\n",
    "        if key == ele:\n",
    "            graph[key].insert(-1, 0)\n",
    "            continue\n",
    "        graph[ele].insert(-1, float('Inf'))\n",
    "    graph[key][-1] = True\n",
    "    queue = [key]\n",
    "    for item in queue:\n",
    "        for neighbour, value in graph[item][0].items():\n",
    "            if not graph[neighbour][-1]:\n",
    "                graph[neighbour][-1] = True\n",
    "                graph[neighbour][-2] = graph[item][-2] + 1\n",
    "                queue.append(neighbour)\n",
    "    return graph[queue[-1]][-2]"
   ]
  },
  {
   "cell_type": "code",
   "execution_count": 25,
   "metadata": {},
   "outputs": [
    {
     "name": "stdout",
     "output_type": "stream",
     "text": [
      "No.of minimum steps you need to at least take to reach final node from starting node is 3\n"
     ]
    }
   ],
   "source": [
    "edges = [('s', 'a'), ('a', 'c'), ('b', 'd'), ('s', 'b'), ('b', 'c'), ('c', 'e'), ('c', 'd'), ('d', 'e')]\n",
    "grph = Graph()\n",
    "for item in edges:\n",
    "    grph.addEdge(item)\n",
    "graph = grph.copy()\n",
    "\n",
    "print('No.of minimum steps you need to at least take to reach final node from starting node is', augmented_bfs(graph, 's'))"
   ]
  },
  {
   "cell_type": "markdown",
   "metadata": {},
   "source": [
    "## Connected Components for Undirected Graph (UCC Algorithm from Page No. 49) \n",
    "### [$O(Vertices + Edges)$]"
   ]
  },
  {
   "cell_type": "markdown",
   "metadata": {},
   "source": [
    "#### Method 1: By inserting the number of the connected component directly to the graph"
   ]
  },
  {
   "cell_type": "code",
   "execution_count": 53,
   "metadata": {},
   "outputs": [],
   "source": [
    "def connected_components_undirected1(graph):\n",
    "    numCC = 0\n",
    "    for key in graph.keys():\n",
    "        if graph[key][-1] == False:\n",
    "            numCC += 1\n",
    "            graph[key][-1] = True\n",
    "            queue = [key]\n",
    "            for item in queue:\n",
    "                graph[item].insert(-1, numCC)\n",
    "                for neighbour in graph[item][0].keys():\n",
    "                    if not graph[neighbour][-1]:\n",
    "                        graph[neighbour][-1] = True\n",
    "                        queue.append(neighbour)\n",
    "    cc = [[] for i in range(numCC)]\n",
    "    for key in graph.keys():\n",
    "        idx = graph[key][-2]-1\n",
    "        cc[idx].append(key)\n",
    "    return cc"
   ]
  },
  {
   "cell_type": "markdown",
   "metadata": {},
   "source": [
    "#### Method 2: We don't insert the number of the connected component directly to the graph, instead we directly add it to the cc list"
   ]
  },
  {
   "cell_type": "code",
   "execution_count": 54,
   "metadata": {},
   "outputs": [],
   "source": [
    "def connected_components_undirected2(graph):\n",
    "    cc = []\n",
    "    numCC = 0\n",
    "    for key in graph.keys():\n",
    "        if graph[key][-1] == False:\n",
    "            numCC += 1\n",
    "            graph[key][-1] = True\n",
    "            queue = [key]\n",
    "            for item in queue:\n",
    "                if numCC-1 > len(cc)-1:\n",
    "                    cc.append([item])\n",
    "                else:\n",
    "                    cc[numCC-1].append(item)\n",
    "                for neighbour in graph[item][0].keys():\n",
    "                    if not graph[neighbour][-1]:\n",
    "                        graph[neighbour][-1] = True\n",
    "                        queue.append(neighbour)\n",
    "    return cc"
   ]
  },
  {
   "cell_type": "code",
   "execution_count": 59,
   "metadata": {},
   "outputs": [
    {
     "name": "stdout",
     "output_type": "stream",
     "text": [
      "Calling connected_components_undirected1()\n",
      "Connected Componenets = [[1, 3, 5, 7, 9], [2, 4], [6, 8, 10]]\n",
      "graph = {1: [{3: None, 5: None}, 1, True], 3: [{5: None, 1: None}, 1, True], 5: [{1: None, 3: None, 7: None, 9: None}, 1, True], 7: [{5: None}, 1, True], 9: [{5: None}, 1, True], 2: [{4: None}, 2, True], 4: [{2: None}, 2, True], 6: [{8: None, 10: None}, 3, True], 8: [{6: None}, 3, True], 10: [{6: None}, 3, True]}\n",
      "----------------------------------------------------------------------\n",
      "Calling connected_components_undirected2()\n",
      "Connected Componenets = [[1, 3, 5, 7, 9], [2, 4], [6, 8, 10]]\n",
      "graph = {1: [{3: None, 5: None}, True], 3: [{5: None, 1: None}, True], 5: [{1: None, 3: None, 7: None, 9: None}, True], 7: [{5: None}, True], 9: [{5: None}, True], 2: [{4: None}, True], 4: [{2: None}, True], 6: [{8: None, 10: None}, True], 8: [{6: None}, True], 10: [{6: None}, True]}\n"
     ]
    }
   ],
   "source": [
    "# Undirected graph (Example from Page No. 50)\n",
    "edges = [(1, 3), (1, 5), (3, 5), (3, 1), (5, 1), (5, 3), (5, 7), (5, 9), (7, 5), (9, 5), (2, 4), (4, 2), (6, 8), (6, 10),\n",
    "        (8, 6), (10, 6)]\n",
    "grph = Graph()\n",
    "for item in edges:\n",
    "    grph.addEdge(item)\n",
    "temp = grph.copy()\n",
    "\n",
    "import copy\n",
    "graph = copy.deepcopy(temp)\n",
    "print(\"Calling connected_components_undirected1()\")\n",
    "print(\"Connected Componenets =\", connected_components_undirected1(graph))\n",
    "print(\"graph =\", graph)\n",
    "print('----------------------------------------------------------------------')\n",
    "graph = copy.deepcopy(temp)\n",
    "print(\"Calling connected_components_undirected2()\")\n",
    "print(\"Connected Componenets =\", connected_components_undirected2(graph))\n",
    "print(\"graph =\", graph)"
   ]
  },
  {
   "cell_type": "code",
   "execution_count": 60,
   "metadata": {},
   "outputs": [
    {
     "name": "stdout",
     "output_type": "stream",
     "text": [
      "Calling connected_components_undirected1()\n",
      "Connected Componenets = [['s', 'u', 'v', 'w']]\n",
      "graph = {'s': [{'u': None, 'v': None}, 1, True], 'u': [{'v': None, 'w': None, 's': None}, 1, True], 'v': [{'w': None, 's': None, 'u': None}, 1, True], 'w': [{'u': None, 'v': None}, 1, True]}\n",
      "----------------------------------------------------------------------\n",
      "Calling connected_components_undirected2()\n",
      "Connected Componenets = [['s', 'u', 'v', 'w']]\n",
      "graph = {'s': [{'u': None, 'v': None}, True], 'u': [{'v': None, 'w': None, 's': None}, True], 'v': [{'w': None, 's': None, 'u': None}, True], 'w': [{'u': None, 'v': None}, True]}\n"
     ]
    }
   ],
   "source": [
    "# Undirected graph (Example from Page No. 31)\n",
    "edges = [('s', 'u'), ('s', 'v'), ('u', 'v'), ('u', 'w'), ('v', 'w'), ('u', 's'), ('v', 's'), ('v', 'u'), ('w', 'u'), ('w', 'v')]\n",
    "grph = Graph()\n",
    "for item in edges:\n",
    "    grph.addEdge(item)\n",
    "temp = grph.copy()\n",
    "\n",
    "import copy\n",
    "graph = copy.deepcopy(temp)\n",
    "print(\"Calling connected_components_undirected1()\")\n",
    "print(\"Connected Componenets =\", connected_components_undirected1(graph))\n",
    "print(\"graph =\", graph)\n",
    "print('----------------------------------------------------------------------')\n",
    "graph = copy.deepcopy(temp)\n",
    "print(\"Calling connected_components_undirected2()\")\n",
    "print(\"Connected Componenets =\", connected_components_undirected2(graph))\n",
    "print(\"graph =\", graph)"
   ]
  },
  {
   "cell_type": "code",
   "execution_count": 61,
   "metadata": {},
   "outputs": [
    {
     "name": "stdout",
     "output_type": "stream",
     "text": [
      "Calling connected_components_undirected1()\n",
      "Connected Componenets = [['s', 'u'], ['v', 'w']]\n",
      "graph = {'s': [{'u': None}, 1, True], 'u': [{'s': None}, 1, True], 'v': [{'w': None}, 2, True], 'w': [{'v': None}, 2, True]}\n",
      "----------------------------------------------------------------------\n",
      "Calling connected_components_undirected2()\n",
      "Connected Componenets = [['s', 'u'], ['v', 'w']]\n",
      "graph = {'s': [{'u': None}, True], 'u': [{'s': None}, True], 'v': [{'w': None}, True], 'w': [{'v': None}, True]}\n"
     ]
    }
   ],
   "source": [
    "# Undirected graph\n",
    "edges = [('s', 'u'), ('v', 'w'), ('u', 's'), ('w', 'v')]\n",
    "grph = Graph()\n",
    "for item in edges:\n",
    "    grph.addEdge(item)\n",
    "temp = grph.copy()\n",
    "\n",
    "import copy\n",
    "graph = copy.deepcopy(temp)\n",
    "print(\"Calling connected_components_undirected1()\")\n",
    "print(\"Connected Componenets =\", connected_components_undirected1(graph))\n",
    "print(\"graph =\", graph)\n",
    "print('----------------------------------------------------------------------')\n",
    "graph = copy.deepcopy(temp)\n",
    "print(\"Calling connected_components_undirected2()\")\n",
    "print(\"Connected Componenets =\", connected_components_undirected2(graph))\n",
    "print(\"graph =\", graph)"
   ]
  },
  {
   "cell_type": "markdown",
   "metadata": {},
   "source": [
    "## Depth First Search (Iterative Version) (Page No. 54) [$O(Vertices + Edges)$]"
   ]
  },
  {
   "cell_type": "code",
   "execution_count": 4,
   "metadata": {},
   "outputs": [],
   "source": [
    "def depth_first_search(graph, key):\n",
    "    path = []\n",
    "    stack = [key]\n",
    "    while stack:\n",
    "        v = stack.pop()\n",
    "        if graph[v][-1] == False:\n",
    "            graph[v][-1] = True\n",
    "            path.append(v)\n",
    "            for item in graph[v][0].keys():\n",
    "                if graph[item][-1] == False:\n",
    "                    stack.append(item)\n",
    "    return path"
   ]
  },
  {
   "cell_type": "code",
   "execution_count": 5,
   "metadata": {},
   "outputs": [
    {
     "data": {
      "text/plain": [
       "['s', 'b', 'd', 'c', 'a', 'e']"
      ]
     },
     "execution_count": 5,
     "metadata": {},
     "output_type": "execute_result"
    }
   ],
   "source": [
    "# Undirected graph (Example from Page No. 52)\n",
    "edges = [('s', 'a'), ('s', 'b'), ('a', 'c'), ('b', 'c'), ('c', 'd'), ('c', 'e'), ('b', 's'), ('a', 's'), ('d', 'e'), ('b', 'd'),\n",
    "        ('c', 'a'), ('c', 'b'), ('d', 'c'), ('e', 'c'), ('e', 'd'), ('d', 'b')]\n",
    "grph = Graph()\n",
    "for item in edges:\n",
    "    grph.addEdge(item)\n",
    "graph = grph.copy()\n",
    "\n",
    "depth_first_search(graph, 's')"
   ]
  },
  {
   "cell_type": "code",
   "execution_count": 6,
   "metadata": {},
   "outputs": [
    {
     "data": {
      "text/plain": [
       "['s', 'b', 'd', 'e', 'c', 'a']"
      ]
     },
     "execution_count": 6,
     "metadata": {},
     "output_type": "execute_result"
    }
   ],
   "source": [
    "# Above example converted to directed graph (Above Undirected graph Example from Page No. 52)\n",
    "edges = [('s', 'a'), ('s', 'b'), ('a', 'c'), ('b', 'c'), ('c', 'd'), ('c', 'e'), ('d', 'e'), ('b', 'd')]\n",
    "grph = Graph()\n",
    "for item in edges:\n",
    "    grph.addEdge(item)\n",
    "graph = grph.copy()\n",
    "\n",
    "depth_first_search(graph, 's')"
   ]
  },
  {
   "cell_type": "markdown",
   "metadata": {},
   "source": [
    "## Depth First Search (Recursive Version) (Page No. 55) [$O(Vertices + Edges)$]"
   ]
  },
  {
   "cell_type": "code",
   "execution_count": 7,
   "metadata": {},
   "outputs": [],
   "source": [
    "def depth_first_search_rec(graph, key):\n",
    "    if graph[key][-1] == True:\n",
    "        return [key]\n",
    "    path = []\n",
    "    if graph[key][-1] == False:\n",
    "        graph[key][-1] = True\n",
    "        path.append(key)\n",
    "        for item in graph[key][0].keys():\n",
    "            if graph[item][-1] == False:\n",
    "                lst = depth_first_search_rec(graph, item)\n",
    "                path = path + lst\n",
    "    return path"
   ]
  },
  {
   "cell_type": "code",
   "execution_count": 8,
   "metadata": {},
   "outputs": [
    {
     "data": {
      "text/plain": [
       "['s', 'a', 'c', 'd', 'e', 'b']"
      ]
     },
     "execution_count": 8,
     "metadata": {},
     "output_type": "execute_result"
    }
   ],
   "source": [
    "# Undirected graph (Example from Page No. 52)\n",
    "edges = [('s', 'a'), ('s', 'b'), ('a', 'c'), ('b', 'c'), ('c', 'd'), ('c', 'e'), ('b', 's'), ('a', 's'), ('d', 'e'), ('b', 'd'),\n",
    "        ('c', 'a'), ('c', 'b'), ('d', 'c'), ('e', 'c'), ('e', 'd'), ('d', 'b')]\n",
    "grph = Graph()\n",
    "for item in edges:\n",
    "    grph.addEdge(item)\n",
    "graph = grph.copy()\n",
    "\n",
    "depth_first_search_rec(graph, 's')"
   ]
  },
  {
   "cell_type": "code",
   "execution_count": 9,
   "metadata": {},
   "outputs": [
    {
     "data": {
      "text/plain": [
       "['s', 'a', 'c', 'd', 'e', 'b']"
      ]
     },
     "execution_count": 9,
     "metadata": {},
     "output_type": "execute_result"
    }
   ],
   "source": [
    "# (Directed Graph) Above example converted to directed graph (Above Undirected graph Example from Page No. 52)\n",
    "edges = [('s', 'a'), ('s', 'b'), ('a', 'c'), ('b', 'c'), ('c', 'd'), ('c', 'e'), ('d', 'e'), ('b', 'd')]\n",
    "grph = Graph()\n",
    "for item in edges:\n",
    "    grph.addEdge(item)\n",
    "graph = grph.copy()\n",
    "\n",
    "depth_first_search_rec(graph, 's')"
   ]
  },
  {
   "cell_type": "markdown",
   "metadata": {},
   "source": [
    "## Topological Ordering (Topological Sort) using Depth-First Search [From Page No. 62]\n",
    "### [$O(Vertices + Edges)$]"
   ]
  },
  {
   "cell_type": "code",
   "execution_count": 9,
   "metadata": {},
   "outputs": [],
   "source": [
    "def topological_sort(graph):\n",
    "    def dfs_topo(graph, key):\n",
    "        nonlocal curLabel\n",
    "        if graph[key][-1] == True:\n",
    "            return\n",
    "        graph[key][-1] = True\n",
    "        for item in graph[key][0].keys():\n",
    "            if graph[item][-1] == False:\n",
    "                dfs_topo(graph, item)\n",
    "        f_values.append((key, curLabel))\n",
    "        curLabel -= 1\n",
    "    f_values = []\n",
    "    curLabel = len(graph.keys())\n",
    "    for key in graph.keys():\n",
    "        if graph[key][-1] == False:\n",
    "            dfs_topo(graph, key)\n",
    "    return f_values"
   ]
  },
  {
   "cell_type": "code",
   "execution_count": 37,
   "metadata": {},
   "outputs": [
    {
     "data": {
      "text/plain": [
       "[('t', 4), ('v', 3), ('w', 2), ('s', 1)]"
      ]
     },
     "execution_count": 37,
     "metadata": {},
     "output_type": "execute_result"
    }
   ],
   "source": [
    "# Directed Acyclic Graph (Example from Quiz 8.3, Page No. 57, 58)\n",
    "edges = [('s', 'v'), ('s', 'w'), ('v', 't'), ('w', 't')]\n",
    "grph = Graph()\n",
    "for item in edges:\n",
    "    grph.addEdge(item)\n",
    "graph = grph.copy()\n",
    "\n",
    "topological_sort(graph)"
   ]
  },
  {
   "cell_type": "code",
   "execution_count": 39,
   "metadata": {},
   "outputs": [
    {
     "data": {
      "text/plain": [
       "[('t', 4), ('v', 3), ('w', 2), ('s', 1)]"
      ]
     },
     "execution_count": 39,
     "metadata": {},
     "output_type": "execute_result"
    }
   ],
   "source": [
    "# Directed Cyclic Graph (Converted from above Example from Quiz 8.3, Page No. 57, 58)\n",
    "edges = [('s', 'v'), ('s', 'w'), ('v', 't'), ('w', 't'), ('t', 's')]\n",
    "grph = Graph()\n",
    "for item in edges:\n",
    "    grph.addEdge(item)\n",
    "graph = grph.copy()\n",
    "\n",
    "topological_sort(graph)"
   ]
  },
  {
   "cell_type": "code",
   "execution_count": 38,
   "metadata": {},
   "outputs": [
    {
     "data": {
      "text/plain": [
       "[('e', 6), ('d', 5), ('c', 4), ('a', 3), ('b', 2), ('s', 1)]"
      ]
     },
     "execution_count": 38,
     "metadata": {},
     "output_type": "execute_result"
    }
   ],
   "source": [
    "# Directed Acyclic Graph (converted from undirected graph in Example from Page No. 52)\n",
    "edges = [('s', 'a'), ('s', 'b'), ('a', 'c'), ('b', 'c'), ('c', 'd'), ('c', 'e'), ('d', 'e'), ('b', 'd')]\n",
    "grph = Graph()\n",
    "for item in edges:\n",
    "    grph.addEdge(item)\n",
    "graph = grph.copy()\n",
    "\n",
    "topological_sort(graph)"
   ]
  },
  {
   "cell_type": "code",
   "execution_count": 9,
   "metadata": {},
   "outputs": [
    {
     "data": {
      "text/plain": [
       "[('e', 6), ('d', 5), ('c', 4), ('a', 3), ('b', 2), ('s', 1)]"
      ]
     },
     "execution_count": 9,
     "metadata": {},
     "output_type": "execute_result"
    }
   ],
   "source": [
    "# (Directed Cyclic Graph) (converted from above Example from Page No. 52)\n",
    "# Topological Sort doesn't work on Directed Cyclic Graphs i.e. directed graph with cycles\n",
    "edges = [('s', 'a'), ('s', 'b'), ('a', 'c'), ('b', 'c'), ('c', 'd'), ('c', 'e'), ('d', 'e'), ('b', 'd'), ('e', 's'), ('d', 's')]\n",
    "grph = Graph()\n",
    "for item in edges:\n",
    "    grph.addEdge(item)\n",
    "graph = grph.copy()\n",
    "\n",
    "topological_sort(graph)"
   ]
  },
  {
   "cell_type": "code",
   "execution_count": 43,
   "metadata": {},
   "outputs": [
    {
     "data": {
      "text/plain": [
       "[('z', 6), ('y', 5), ('x', 4), ('w', 3), ('v', 2), ('u', 1)]"
      ]
     },
     "execution_count": 43,
     "metadata": {},
     "output_type": "execute_result"
    }
   ],
   "source": [
    "# Directed Cyclic Graph (Example from Fig. 8.11, Page No. 59)\n",
    "# Topological Sort doesn't work on Directed Cyclic Graphs i.e. directed graph with cycles\n",
    "edges = [('u', 'v'), ('v', 'w'), ('w', 'x'), ('x', 'y'), ('y', 'z'), ('z', 'u')]\n",
    "grph = Graph()\n",
    "for item in edges:\n",
    "    grph.addEdge(item)\n",
    "graph = grph.copy()\n",
    "\n",
    "topological_sort(graph)"
   ]
  },
  {
   "cell_type": "markdown",
   "metadata": {},
   "source": [
    "## Strongly Connected Components for Directed Graph\n",
    "### (Kosaraju Algorithm from Page No. 74) (Depends on topological_sort() function from above steps)\n",
    "### [$O(Vertices + Edges)$]"
   ]
  },
  {
   "cell_type": "markdown",
   "metadata": {},
   "source": [
    "#### Method 1: By inserting the number of the strongly connected component directly to the graph"
   ]
  },
  {
   "cell_type": "code",
   "execution_count": 6,
   "metadata": {},
   "outputs": [],
   "source": [
    "def kosaraju1(graph, func):\n",
    "    def dfs_scc(key):\n",
    "        if graph[key][-1] == True:\n",
    "            return\n",
    "        nonlocal numSCC\n",
    "        graph[key][-1] = True\n",
    "        graph[key].insert(-1, numSCC)\n",
    "        for item in graph[key][0].keys():\n",
    "            if graph[item][-1] == False:\n",
    "                dfs_scc(item)\n",
    "    def rev_graph(graph):\n",
    "        revGraph = {}\n",
    "        for key in graph.keys():\n",
    "            if not revGraph.get(key):\n",
    "                revGraph[key] = [{}, False]\n",
    "            for item, val in graph[key][0].items():\n",
    "                if not revGraph.get(item):\n",
    "                    revGraph[item] = [{}, False]\n",
    "                revGraph[item][0][key] = val\n",
    "        return revGraph\n",
    "    revGraph = rev_graph(graph)\n",
    "    topo_order = func(revGraph)\n",
    "    numSCC = 0\n",
    "    for i in range(len(topo_order)):\n",
    "        key = topo_order[-(i+1)][0]\n",
    "        if graph[key][-1] == False:\n",
    "            numSCC += 1\n",
    "            dfs_scc(key)\n",
    "    scc = [[] for i in range(numSCC)]\n",
    "    for key in graph.keys():\n",
    "        idx = graph[key][-2]-1\n",
    "        scc[idx].append(key)\n",
    "    return scc"
   ]
  },
  {
   "cell_type": "markdown",
   "metadata": {},
   "source": [
    "#### Method 2: We don't insert the number of the strongly connected component directly to the graph, instead we directly add it to the scc list"
   ]
  },
  {
   "cell_type": "code",
   "execution_count": 15,
   "metadata": {},
   "outputs": [],
   "source": [
    "def kosaraju2(graph, func):\n",
    "    def dfs_scc(key):\n",
    "        if graph[key][-1] == True:\n",
    "            return\n",
    "        nonlocal numSCC\n",
    "        graph[key][-1] = True\n",
    "        if numSCC-1 > len(scc)-1:\n",
    "            scc.append([key])\n",
    "        else:\n",
    "            scc[numSCC-1].append(key)\n",
    "        for item in graph[key][0].keys():\n",
    "            if graph[item][-1] == False:\n",
    "                dfs_scc(item)\n",
    "    def rev_graph(graph):\n",
    "        revGraph = {}\n",
    "        for key in graph.keys():\n",
    "            if not revGraph.get(key):\n",
    "                revGraph[key] = [{}, False]\n",
    "            for item, val in graph[key][0].items():\n",
    "                if not revGraph.get(item):\n",
    "                    revGraph[item] = [{}, False]\n",
    "                revGraph[item][0][key] = val\n",
    "        return revGraph\n",
    "    scc = []\n",
    "    revGraph = rev_graph(graph)\n",
    "    topo_order = func(revGraph)\n",
    "    numSCC = 0\n",
    "    for i in range(len(topo_order)):\n",
    "        key = topo_order[-(i+1)][0]\n",
    "        if graph[key][-1] == False:\n",
    "            numSCC += 1\n",
    "            dfs_scc(key)\n",
    "    return scc"
   ]
  },
  {
   "cell_type": "code",
   "execution_count": 16,
   "metadata": {},
   "outputs": [
    {
     "name": "stdout",
     "output_type": "stream",
     "text": [
      "Calling kosaraju1()\n",
      "Strongly Connected Componenets = [['v8', 'v6', 'v10'], ['v9', 'v7', 'v2', 'v4'], ['v11'], ['v1', 'v3', 'v5']]\n",
      "graph = {'v1': [{'v3': None}, 4, True], 'v3': [{'v5': None, 'v11': None}, 4, True], 'v5': [{'v1': None, 'v9': None, 'v7': None}, 4, True], 'v11': [{'v8': None, 'v6': None}, 3, True], 'v8': [{'v6': None}, 1, True], 'v6': [{'v10': None}, 1, True], 'v10': [{'v8': None}, 1, True], 'v9': [{'v2': None, 'v4': None, 'v8': None}, 2, True], 'v7': [{'v9': None}, 2, True], 'v2': [{'v4': None, 'v10': None}, 2, True], 'v4': [{'v7': None}, 2, True]}\n",
      "----------------------------------------------------------------------\n",
      "Calling kosaraju2()\n",
      "Strongly Connected Componenets = [['v8', 'v6', 'v10'], ['v9', 'v2', 'v4', 'v7'], ['v11'], ['v1', 'v3', 'v5']]\n",
      "graph = {'v1': [{'v3': None}, True], 'v3': [{'v5': None, 'v11': None}, True], 'v5': [{'v1': None, 'v9': None, 'v7': None}, True], 'v11': [{'v8': None, 'v6': None}, True], 'v8': [{'v6': None}, True], 'v6': [{'v10': None}, True], 'v10': [{'v8': None}, True], 'v9': [{'v2': None, 'v4': None, 'v8': None}, True], 'v7': [{'v9': None}, True], 'v2': [{'v4': None, 'v10': None}, True], 'v4': [{'v7': None}, True]}\n"
     ]
    }
   ],
   "source": [
    "# Directed Acyclic Graph with 4 strongly connected components which are themselves directed cyclic graphs\n",
    "# (Example from Page No. 67)\n",
    "edges = [('v1', 'v3'), ('v3', 'v5'), ('v5', 'v1'), ('v3', 'v11'), ('v11', 'v8'), ('v11', 'v6'), ('v6', 'v10'), ('v10', 'v8'),\n",
    "        ('v8', 'v6'), ('v5', 'v9'), ('v5', 'v7'), ('v9', 'v2'), ('v2', 'v4'), ('v4', 'v7'), ('v7', 'v9'), ('v9', 'v4'),\n",
    "        ('v9', 'v8'), ('v2', 'v10')]\n",
    "grph = Graph()\n",
    "for item in edges:\n",
    "    grph.addEdge(item)\n",
    "temp = grph.copy()\n",
    "\n",
    "import copy\n",
    "graph = copy.deepcopy(temp)\n",
    "print(\"Calling kosaraju1()\")\n",
    "# This function depends on topological_sort() function\n",
    "print(\"Strongly Connected Componenets =\", kosaraju1(graph, topological_sort))\n",
    "print(\"graph =\", graph)\n",
    "print('----------------------------------------------------------------------')\n",
    "graph = copy.deepcopy(temp)\n",
    "print(\"Calling kosaraju2()\")\n",
    "# This function depends on topological_sort() function\n",
    "print(\"Strongly Connected Componenets =\", kosaraju2(graph, topological_sort))\n",
    "print(\"graph =\", graph)"
   ]
  },
  {
   "cell_type": "code",
   "execution_count": 18,
   "metadata": {},
   "outputs": [
    {
     "name": "stdout",
     "output_type": "stream",
     "text": [
      "Calling kosaraju1()\n",
      "Strongly Connected Componenets = [['e'], ['d'], ['c'], ['b'], ['a'], ['s']]\n",
      "graph = {'s': [{'a': None, 'b': None}, 6, True], 'a': [{'c': None}, 5, True], 'b': [{'c': None, 'd': None}, 4, True], 'c': [{'d': None, 'e': None}, 3, True], 'd': [{'e': None}, 2, True], 'e': [{}, 1, True]}\n",
      "----------------------------------------------------------------------\n",
      "Calling kosaraju2()\n",
      "Strongly Connected Componenets = [['e'], ['d'], ['c'], ['b'], ['a'], ['s']]\n",
      "graph = {'s': [{'a': None, 'b': None}, True], 'a': [{'c': None}, True], 'b': [{'c': None, 'd': None}, True], 'c': [{'d': None, 'e': None}, True], 'd': [{'e': None}, True], 'e': [{}, True]}\n"
     ]
    }
   ],
   "source": [
    "# Directed Acyclic Graph (converted from undirected graph in Example from Page No. 52)\n",
    "edges = [('s', 'a'), ('s', 'b'), ('a', 'c'), ('b', 'c'), ('c', 'd'), ('c', 'e'), ('d', 'e'), ('b', 'd')]\n",
    "grph = Graph()\n",
    "for item in edges:\n",
    "    grph.addEdge(item)\n",
    "temp = grph.copy()\n",
    "\n",
    "import copy\n",
    "graph = copy.deepcopy(temp)\n",
    "print(\"Calling kosaraju1()\")\n",
    "# This function depends on topological_sort() function\n",
    "print(\"Strongly Connected Componenets =\", kosaraju1(graph, topological_sort))\n",
    "print(\"graph =\", graph)\n",
    "print('----------------------------------------------------------------------')\n",
    "graph = copy.deepcopy(temp)\n",
    "print(\"Calling kosaraju2()\")\n",
    "# This function depends on topological_sort() function\n",
    "print(\"Strongly Connected Componenets =\", kosaraju2(graph, topological_sort))\n",
    "print(\"graph =\", graph)"
   ]
  },
  {
   "cell_type": "code",
   "execution_count": 19,
   "metadata": {},
   "outputs": [
    {
     "name": "stdout",
     "output_type": "stream",
     "text": [
      "Calling kosaraju1()\n",
      "Strongly Connected Componenets = [['s', 'a', 'c', 'b']]\n",
      "graph = {'s': [{'a': None}, 1, True], 'a': [{'c': None}, 1, True], 'c': [{'b': None}, 1, True], 'b': [{'s': None}, 1, True]}\n",
      "----------------------------------------------------------------------\n",
      "Calling kosaraju2()\n",
      "Strongly Connected Componenets = [['s', 'a', 'c', 'b']]\n",
      "graph = {'s': [{'a': None}, True], 'a': [{'c': None}, True], 'c': [{'b': None}, True], 'b': [{'s': None}, True]}\n"
     ]
    }
   ],
   "source": [
    "# Directed Cyclic Graph (with s -> a -> c -> b -> s)\n",
    "edges = [('s', 'a'), ('a', 'c'), ('c', 'b'), ('b', 's')]\n",
    "grph = Graph()\n",
    "for item in edges:\n",
    "    grph.addEdge(item)\n",
    "temp = grph.copy()\n",
    "\n",
    "import copy\n",
    "graph = copy.deepcopy(temp)\n",
    "print(\"Calling kosaraju1()\")\n",
    "# This function depends on topological_sort() function\n",
    "print(\"Strongly Connected Componenets =\", kosaraju1(graph, topological_sort))\n",
    "print(\"graph =\", graph)\n",
    "print('----------------------------------------------------------------------')\n",
    "graph = copy.deepcopy(temp)\n",
    "print(\"Calling kosaraju2()\")\n",
    "# This function depends on topological_sort() function\n",
    "print(\"Strongly Connected Componenets =\", kosaraju2(graph, topological_sort))\n",
    "print(\"graph =\", graph)"
   ]
  },
  {
   "cell_type": "markdown",
   "metadata": {},
   "source": [
    "## Dijkstra Algorithm (From Page No. 92) [$O(Vertices * Edges)$]\n",
    "\n",
    "This algorithm works on any directed graph with a source vertex; (source vertex is the vertex with no incoming edges);\n",
    "The one other requirement for this algorithm to be working is that the length of the edges shouldn't be negative"
   ]
  },
  {
   "cell_type": "code",
   "execution_count": 3,
   "metadata": {},
   "outputs": [],
   "source": [
    "# Dijkstra Algorithm for computing shortest path (From Page No. 92)\n",
    "def dijkstra(graph, source):\n",
    "    xDict = {source:0}\n",
    "    while len(xDict) < len(graph):\n",
    "        ele = \"\"\n",
    "        minDist = float('Inf')\n",
    "        for key in xDict.keys():\n",
    "            for neighbour in graph[key][0].keys():\n",
    "                if neighbour in xDict:\n",
    "                    continue\n",
    "                curDist = xDict[key] + graph[key][0][neighbour]\n",
    "                if curDist < minDist:\n",
    "                    minDist = curDist\n",
    "                    ele = neighbour\n",
    "        xDict[ele] = minDist\n",
    "    return xDict"
   ]
  },
  {
   "cell_type": "code",
   "execution_count": 4,
   "metadata": {},
   "outputs": [
    {
     "data": {
      "text/plain": [
       "{'s': 0, 'v': 1, 'w': 3, 't': 6}"
      ]
     },
     "execution_count": 4,
     "metadata": {},
     "output_type": "execute_result"
    }
   ],
   "source": [
    "# Directed Acyclic Graph (Example from Pg. No. 94)\n",
    "edges = [('s', 'v', 1), ('s', 'w', 4), ('v', 'w', 2), ('v', 't', 6), ('w', 't', 3)]\n",
    "grph = Graph()\n",
    "for item in edges:\n",
    "    grph.addEdge(item)\n",
    "graph = grph.copy()\n",
    "\n",
    "dijkstra(graph, 's')"
   ]
  },
  {
   "cell_type": "code",
   "execution_count": 31,
   "metadata": {},
   "outputs": [
    {
     "name": "stdout",
     "output_type": "stream",
     "text": [
      "3.3 µs ± 58.2 ns per loop (mean ± std. dev. of 7 runs, 100000 loops each)\n"
     ]
    }
   ],
   "source": [
    "%timeit dijkstra(graph, 's')"
   ]
  },
  {
   "cell_type": "code",
   "execution_count": 5,
   "metadata": {},
   "outputs": [
    {
     "data": {
      "text/plain": [
       "{'a': 0, 'b': 7, 'f': 9, 'e': 11, 'c': 15, 'd': 19}"
      ]
     },
     "execution_count": 5,
     "metadata": {},
     "output_type": "execute_result"
    }
   ],
   "source": [
    "edges = [('a', 'b', 7), ('a', 'e', 14), ('a', 'f', 9), ('b', 'f', 8), ('b', 'c', 15), ('f', 'e', 2), ('f', 'c', 6), \n",
    "         ('c', 'd', 4), ('e', 'd', 9)]\n",
    "grph = Graph()\n",
    "for item in edges:\n",
    "    grph.addEdge(item)\n",
    "graph = grph.copy()\n",
    "\n",
    "dijkstra(graph, 'a')"
   ]
  },
  {
   "cell_type": "markdown",
   "metadata": {},
   "source": [
    "## Dijkstra Algorithm using Heaps (Explanation From Pg. No. 121-123) \n",
    "### Based on Book: [$O((Vertices + Edges)*log(n))$]; \n",
    "### Below Implementation: [$O(Vertices*Edges*log(n))$];\n",
    "While we delete the element in Heap (see Pg. No. 123, Dijkstra (Heap-Based, Part 2)), in the below code we always need to search for the element first in the heap to know its index and then we would delete that element based on the index. If we don't search for key each time deleting the key, the complexity would normally be the mentioned complexity of [𝑂((𝑉𝑒𝑟𝑡𝑖𝑐𝑒𝑠+𝐸𝑑𝑔𝑒𝑠)∗𝑙𝑜𝑔(𝑛))]. As we are searching each time when we want to delete the key, it adds up to the complexity and the complexity would be [𝑂(𝑉𝑒𝑟𝑡𝑖𝑐𝑒𝑠*𝐸𝑑𝑔𝑒𝑠∗𝑙𝑜𝑔(𝑛))]"
   ]
  },
  {
   "cell_type": "code",
   "execution_count": 4,
   "metadata": {},
   "outputs": [],
   "source": [
    "def dijkstra_heap_based(graph, source):\n",
    "    from heapq import heappush, heappop\n",
    "    def heapdelete(key):\n",
    "        nonlocal heap\n",
    "        # If we don't search for key each time the complexity would normally be the above mentioned complexity of \n",
    "        # [𝑂((𝑉𝑒𝑟𝑡𝑖𝑐𝑒𝑠+𝐸𝑑𝑔𝑒𝑠)∗𝑙𝑜𝑔(𝑛))]. As we are searching each time we want to delete the key the complexity would be\n",
    "        # [𝑂(𝑉𝑒𝑟𝑡𝑖𝑐𝑒𝑠*𝐸𝑑𝑔𝑒𝑠∗𝑙𝑜𝑔(𝑛))]\n",
    "        for j in range(len(heap)):\n",
    "            if heap[j][-1] == key:\n",
    "                i = j\n",
    "                break\n",
    "        heap[i], heap[-1] = heap[-1], heap[i]\n",
    "        popped = heap.pop()\n",
    "        if i < len(heap)-1: # If the element we want to delete is last element itself, we don't need to perform below\n",
    "            if (i-1)//2 > 0 and heap[i][0] < heap[(i-1)//2][0]: # Value in Replaced Node < Parent Node: \n",
    "                # Swap Parent Node with Replaced Node (Perform operations upwards)\n",
    "                while (i-1)//2 > 0: # As Root Node is always minimum, so no need of checking with root node; So (>0 not >=0)\n",
    "                    if heap[i][0] < heap[(i-1)//2][0]:\n",
    "                        heap[i], heap[(i-1)//2] =  heap[(i-1)//2], heap[i]\n",
    "                        i = (i-1)//2\n",
    "                    else:\n",
    "                        break\n",
    "            else:\n",
    "                while True:\n",
    "                    if 2*i+2 < len(heap):\n",
    "                        smallest_child_idx = 2*i+1 if heap[2*i+1][0] < heap[2*i+2][0] else 2*i+2\n",
    "                    elif 2*i+1 < len(heap):\n",
    "                        smallest_child_idx = 2*i+1\n",
    "                    else:\n",
    "                        break\n",
    "                    if heap[i][0] > heap[smallest_child_idx][0]:\n",
    "                        heap[i], heap[smallest_child_idx] =  heap[smallest_child_idx], heap[i]\n",
    "                        i = smallest_child_idx\n",
    "                    else: # arr[i] <= arr[smallest_child_idx]\n",
    "                        break\n",
    "        return popped\n",
    "    xDict = {}\n",
    "    heap = []\n",
    "    for key in graph.keys():\n",
    "        if key == source:\n",
    "            val = 0\n",
    "        else:\n",
    "            val = float('Inf')\n",
    "        heappush(heap, [val, key])\n",
    "    while heap:\n",
    "        w = heappop(heap)\n",
    "        xDict[w[-1]] = w[0]\n",
    "        for neighbour in graph[w[-1]][0].keys():\n",
    "            y = heapdelete(neighbour)\n",
    "            y[0] = min(y[0], xDict[w[-1]]+graph[w[-1]][0][neighbour])\n",
    "            heappush(heap, y)\n",
    "    return xDict"
   ]
  },
  {
   "cell_type": "code",
   "execution_count": 5,
   "metadata": {},
   "outputs": [
    {
     "data": {
      "text/plain": [
       "{'s': 0, 'v': 1, 'w': 3, 't': 6}"
      ]
     },
     "execution_count": 5,
     "metadata": {},
     "output_type": "execute_result"
    }
   ],
   "source": [
    "# Directed Acyclic Graph (Example from Pg. No. 94)\n",
    "edges = [('s', 'v', 1), ('s', 'w', 4), ('v', 'w', 2), ('v', 't', 6), ('w', 't', 3)]\n",
    "grph = Graph()\n",
    "for item in edges:\n",
    "    grph.addEdge(item)\n",
    "graph = grph.copy()\n",
    "\n",
    "dijkstra_heap_based(graph, 's')"
   ]
  },
  {
   "cell_type": "code",
   "execution_count": 29,
   "metadata": {},
   "outputs": [
    {
     "name": "stdout",
     "output_type": "stream",
     "text": [
      "9.98 µs ± 490 ns per loop (mean ± std. dev. of 7 runs, 100000 loops each)\n"
     ]
    }
   ],
   "source": [
    "%timeit dijkstra_heap_based(graph, 's')"
   ]
  },
  {
   "cell_type": "code",
   "execution_count": 6,
   "metadata": {},
   "outputs": [
    {
     "data": {
      "text/plain": [
       "{'a': 0, 'b': 7, 'f': 9, 'e': 11, 'c': 15, 'd': 19}"
      ]
     },
     "execution_count": 6,
     "metadata": {},
     "output_type": "execute_result"
    }
   ],
   "source": [
    "edges = [('a', 'b', 7), ('a', 'e', 14), ('a', 'f', 9), ('b', 'f', 8), ('b', 'c', 15), ('f', 'e', 2), ('f', 'c', 6), \n",
    "         ('c', 'd', 4), ('e', 'd', 9)]\n",
    "grph = Graph()\n",
    "for item in edges:\n",
    "    grph.addEdge(item)\n",
    "graph = grph.copy()\n",
    "\n",
    "dijkstra_heap_based(graph, 'a')"
   ]
  },
  {
   "cell_type": "markdown",
   "metadata": {},
   "source": [
    "## Heap Sort [$O(nlog(n))$]"
   ]
  },
  {
   "cell_type": "markdown",
   "metadata": {},
   "source": [
    "#### Method 1"
   ]
  },
  {
   "cell_type": "code",
   "execution_count": 21,
   "metadata": {},
   "outputs": [],
   "source": [
    "def heapsort(arr):\n",
    "    from heapq import heapify, heappop\n",
    "    heapify(arr)\n",
    "    sorted_arr = [heappop(arr) for i in range(len(arr))]\n",
    "    return sorted_arr "
   ]
  },
  {
   "cell_type": "code",
   "execution_count": 9,
   "metadata": {},
   "outputs": [
    {
     "name": "stdout",
     "output_type": "stream",
     "text": [
      "1.12 µs ± 8.29 ns per loop (mean ± std. dev. of 7 runs, 1000000 loops each)\n"
     ]
    }
   ],
   "source": [
    "lst = [3, 4, -5, 1, 6, 8, -2, -8]\n",
    "%timeit heapsort(lst)"
   ]
  },
  {
   "cell_type": "markdown",
   "metadata": {},
   "source": [
    "#### Method 2"
   ]
  },
  {
   "cell_type": "code",
   "execution_count": 22,
   "metadata": {},
   "outputs": [],
   "source": [
    "def heapsort(arr):\n",
    "    from heapq import heappush, heappop\n",
    "    heap = []\n",
    "    for ele in arr:\n",
    "        heappush(heap, ele)\n",
    "    sorted_arr = [heappop(heap) for i in range(len(heap))]\n",
    "    return sorted_arr"
   ]
  },
  {
   "cell_type": "code",
   "execution_count": 20,
   "metadata": {},
   "outputs": [
    {
     "name": "stdout",
     "output_type": "stream",
     "text": [
      "2.7 µs ± 220 ns per loop (mean ± std. dev. of 7 runs, 100000 loops each)\n"
     ]
    }
   ],
   "source": [
    "lst = [3, 4, -5, 1, 6, 8, -2, -8]\n",
    "%timeit heapsort(lst)"
   ]
  },
  {
   "cell_type": "markdown",
   "metadata": {},
   "source": [
    "## Application: Median Maintenance using Heap [$O(log(n)$] for each element in the array\n",
    "Here we considered median as: If there are `$2k-1$ elements` (Odd length) `median = $k^{th}$ element` and if there are `$2k$ elements` (even length) `median = $k^{th}$ element` i.e. lower order term of both `$k^{th}$ element` and `$(k+1)^{th}$ element`"
   ]
  },
  {
   "cell_type": "code",
   "execution_count": 13,
   "metadata": {},
   "outputs": [],
   "source": [
    "def median_maintenance(arr):\n",
    "    from heapq import heappush, heappop\n",
    "    large = []\n",
    "    small = []\n",
    "    median = arr[0]\n",
    "    medians_arr = [median]\n",
    "    for ele in arr[1:]:\n",
    "        if ele <= median:\n",
    "            heappush(small, -ele)\n",
    "        else : # ele > median\n",
    "            heappush(large, ele)\n",
    "        if len(small)+1 < len(large):\n",
    "            heappush(small, -median)\n",
    "            median = heappop(large)\n",
    "        elif len(small) > len(large):\n",
    "            heappush(large, median)\n",
    "            median = -heappop(small)\n",
    "        medians_arr.append(median)\n",
    "    return medians_arr"
   ]
  },
  {
   "cell_type": "code",
   "execution_count": 14,
   "metadata": {},
   "outputs": [
    {
     "data": {
      "text/plain": [
       "[3, 3, 3, 1, 3, 3, 3, 1]"
      ]
     },
     "execution_count": 14,
     "metadata": {},
     "output_type": "execute_result"
    }
   ],
   "source": [
    "lst = [3, 4, -5, 1, 6, 8, -2, -8]\n",
    "median_maintenance(lst)"
   ]
  },
  {
   "cell_type": "code",
   "execution_count": 15,
   "metadata": {},
   "outputs": [
    {
     "data": {
      "text/plain": [
       "[59, 59, 59, 59, 59, 59, 59, 59, 77, 59, 77, 77]"
      ]
     },
     "execution_count": 15,
     "metadata": {},
     "output_type": "execute_result"
    }
   ],
   "source": [
    "lst = [59, 87, 39, 77, 59, 91, 42, 99, 83, 38, 98, 91]\n",
    "median_maintenance(lst)"
   ]
  },
  {
   "cell_type": "code",
   "execution_count": 5,
   "metadata": {},
   "outputs": [
    {
     "name": "stdout",
     "output_type": "stream",
     "text": [
      "14.5 µs ± 496 ns per loop (mean ± std. dev. of 7 runs, 100000 loops each)\n"
     ]
    }
   ],
   "source": [
    "from random import randint\n",
    "lst = [randint(0, 10000) for i in range(30)]\n",
    "%timeit median_maintenance(lst)"
   ]
  },
  {
   "cell_type": "markdown",
   "metadata": {},
   "source": [
    "## Heap Implementation"
   ]
  },
  {
   "cell_type": "markdown",
   "metadata": {},
   "source": [
    "#### Insert and ExtractMin (pop) Method of `heapq` : My Implementation [$O(log(n))$]"
   ]
  },
  {
   "cell_type": "code",
   "execution_count": 40,
   "metadata": {},
   "outputs": [],
   "source": [
    "class Heap:\n",
    "    def __init__(self):\n",
    "        self.heap_arr = []\n",
    "    def _heappush(self, ele):\n",
    "        i = len(self.heap_arr)\n",
    "        self.heap_arr.append(int(ele))\n",
    "        while i >= 1 and self.heap_arr[(i-1)//2] > self.heap_arr[i]:\n",
    "            self.heap_arr[(i-1)//2], self.heap_arr[i] = self.heap_arr[i], self.heap_arr[(i-1)//2]\n",
    "            i = (i-1)//2\n",
    "    def _heappop(self):\n",
    "        self.heap_arr[0], self.heap_arr[-1] = self.heap_arr[-1], self.heap_arr[0]\n",
    "        smallest = self.heap_arr.pop()\n",
    "        i = 0 \n",
    "        while True:\n",
    "            if 2*i+2 < len(self.heap_arr):\n",
    "                smallest_child_idx = 2*i+1 if self.heap_arr[2*i+1] < self.heap_arr[2*i+2] else 2*i+2\n",
    "            elif 2*i+1 < len(self.heap_arr):\n",
    "                smallest_child_idx = 2*i+1\n",
    "            else:\n",
    "                break\n",
    "            if self.heap_arr[i] > self.heap_arr[smallest_child_idx]:\n",
    "                self.heap_arr[i], self.heap_arr[smallest_child_idx] =  self.heap_arr[smallest_child_idx], self.heap_arr[i]\n",
    "                i = smallest_child_idx\n",
    "            else: # arr[i] <= arr[smallest_child_idx]\n",
    "                break\n",
    "        return smallest\n",
    "    # Given an element we have to delete the element by first checking for its index in heap\n",
    "    def _heapdelete(self, key):\n",
    "        for j in range(len(self.heap_arr)):\n",
    "            if self.heap_arr[j] == key:\n",
    "                i = j\n",
    "                break\n",
    "        self.heap_arr[i], self.heap_arr[-1] = self.heap_arr[-1], self.heap_arr[i]\n",
    "        self.heap_arr.pop()\n",
    "        if (i-1)//2 > 0 and self.heap_arr[i] < self.heap_arr[(i-1)//2]: # Value in Replaced Node < Parent Node: \n",
    "            # Swap Parent Node with Replaced Node (Perform operations upwards)\n",
    "            while (i-1)//2 > 0: # As Root Node is always minimum, so no need of checking with root node; So (>0 not >=0)\n",
    "                if self.heap_arr[i] < self.heap_arr[(i-1)//2]:\n",
    "                    self.heap_arr[i], self.heap_arr[(i-1)//2] =  self.heap_arr[(i-1)//2], self.heap_arr[i]\n",
    "                    i = (i-1)//2\n",
    "                else:\n",
    "                    break\n",
    "        else:\n",
    "            while True:\n",
    "                if 2*i+2 < len(self.heap_arr):\n",
    "                    smallest_child_idx = 2*i+1 if self.heap_arr[2*i+1] < self.heap_arr[2*i+2] else 2*i+2\n",
    "                elif 2*i+1 < len(self.heap_arr):\n",
    "                    smallest_child_idx = 2*i+1\n",
    "                else:\n",
    "                    break\n",
    "                if self.heap_arr[i] > self.heap_arr[smallest_child_idx]:\n",
    "                    self.heap_arr[i], self.heap_arr[smallest_child_idx] =  self.heap_arr[smallest_child_idx], self.heap_arr[i]\n",
    "                    i = smallest_child_idx\n",
    "                else: # arr[i] <= arr[smallest_child_idx]\n",
    "                    break\n",
    "    def access_array(self):\n",
    "        return self.heap_arr"
   ]
  },
  {
   "cell_type": "code",
   "execution_count": 33,
   "metadata": {},
   "outputs": [],
   "source": [
    "heap = Heap()"
   ]
  },
  {
   "cell_type": "code",
   "execution_count": 19,
   "metadata": {},
   "outputs": [],
   "source": [
    "lst = [3, 4, -5, 1, 6, 8, -2, -8]\n",
    "for ele in lst:\n",
    "    heap._heappush(ele)"
   ]
  },
  {
   "cell_type": "code",
   "execution_count": 20,
   "metadata": {},
   "outputs": [
    {
     "data": {
      "text/plain": [
       "[-8, -5, -2, 1, 6, 8, 3, 4]"
      ]
     },
     "execution_count": 20,
     "metadata": {},
     "output_type": "execute_result"
    }
   ],
   "source": [
    "heap.access_array()"
   ]
  },
  {
   "cell_type": "code",
   "execution_count": 21,
   "metadata": {},
   "outputs": [
    {
     "data": {
      "text/plain": [
       "-8"
      ]
     },
     "execution_count": 21,
     "metadata": {},
     "output_type": "execute_result"
    }
   ],
   "source": [
    "heap._heappop()"
   ]
  },
  {
   "cell_type": "code",
   "execution_count": 22,
   "metadata": {
    "scrolled": true
   },
   "outputs": [
    {
     "data": {
      "text/plain": [
       "[-5, 1, -2, 4, 6, 8, 3]"
      ]
     },
     "execution_count": 22,
     "metadata": {},
     "output_type": "execute_result"
    }
   ],
   "source": [
    "heap.access_array()"
   ]
  },
  {
   "cell_type": "code",
   "execution_count": 38,
   "metadata": {},
   "outputs": [
    {
     "data": {
      "text/plain": [
       "[1, 6, 2, 7, 8, 3]"
      ]
     },
     "execution_count": 38,
     "metadata": {},
     "output_type": "execute_result"
    }
   ],
   "source": [
    "heap = Heap()\n",
    "lst = [1, 6, 2, 7, 8, 3]\n",
    "for ele in lst:\n",
    "    heap._heappush(ele)\n",
    "heap.access_array()"
   ]
  },
  {
   "cell_type": "code",
   "execution_count": 39,
   "metadata": {},
   "outputs": [
    {
     "data": {
      "text/plain": [
       "[1, 3, 2, 6, 8]"
      ]
     },
     "execution_count": 39,
     "metadata": {},
     "output_type": "execute_result"
    }
   ],
   "source": [
    "heap._heapdelete(7)\n",
    "heap.access_array()"
   ]
  },
  {
   "cell_type": "code",
   "execution_count": 31,
   "metadata": {},
   "outputs": [],
   "source": [
    "heap = Heap()"
   ]
  },
  {
   "cell_type": "code",
   "execution_count": 7,
   "metadata": {},
   "outputs": [],
   "source": [
    "lst = [59, 87, 39, 77, 59, 91, 42, 99, 83, 38, 98, 91]\n",
    "for ele in lst:\n",
    "    heap._heappush(ele)"
   ]
  },
  {
   "cell_type": "code",
   "execution_count": 28,
   "metadata": {},
   "outputs": [
    {
     "data": {
      "text/plain": [
       "[38, 39, 42, 83, 59, 91, 59, 99, 87, 77, 98, 91]"
      ]
     },
     "execution_count": 28,
     "metadata": {},
     "output_type": "execute_result"
    }
   ],
   "source": [
    "heap.access_array()"
   ]
  },
  {
   "cell_type": "code",
   "execution_count": 16,
   "metadata": {},
   "outputs": [
    {
     "data": {
      "text/plain": [
       "38"
      ]
     },
     "execution_count": 16,
     "metadata": {},
     "output_type": "execute_result"
    }
   ],
   "source": [
    "heap._heappop()"
   ]
  },
  {
   "cell_type": "code",
   "execution_count": 17,
   "metadata": {
    "scrolled": true
   },
   "outputs": [
    {
     "data": {
      "text/plain": [
       "[39, 59, 42, 83, 77, 91, 59, 99, 87, 91, 98]"
      ]
     },
     "execution_count": 17,
     "metadata": {},
     "output_type": "execute_result"
    }
   ],
   "source": [
    "heap.access_array()"
   ]
  },
  {
   "cell_type": "code",
   "execution_count": 11,
   "metadata": {},
   "outputs": [],
   "source": [
    "heap = Heap()"
   ]
  },
  {
   "cell_type": "code",
   "execution_count": 12,
   "metadata": {},
   "outputs": [
    {
     "data": {
      "text/plain": [
       "[38, 39, 42, 59, 59, 77, 83, 87, 91, 91, 98, 99]"
      ]
     },
     "execution_count": 12,
     "metadata": {},
     "output_type": "execute_result"
    }
   ],
   "source": [
    "# Heap Sort\n",
    "lst = [59, 87, 39, 77, 59, 91, 42, 99, 83, 38, 98, 91]\n",
    "for ele in lst:\n",
    "    heap._heappush(ele)\n",
    "\n",
    "sorted_arr = []\n",
    "for i in range(len(lst)):\n",
    "    sorted_arr.append(heap._heappop())\n",
    "sorted_arr"
   ]
  },
  {
   "cell_type": "markdown",
   "metadata": {},
   "source": [
    "#### Default Insert and pop methods `[heappush, heappop]` from `heapq` module [$O(log(n))$]"
   ]
  },
  {
   "cell_type": "code",
   "execution_count": 8,
   "metadata": {},
   "outputs": [
    {
     "data": {
      "text/plain": [
       "[-8, -5, -2, 1, 6, 8, 3, 4]"
      ]
     },
     "execution_count": 8,
     "metadata": {},
     "output_type": "execute_result"
    }
   ],
   "source": [
    "from heapq import heappush, heappop\n",
    "lst = [3, 4, -5, 1, 6, 8, -2, -8]\n",
    "heap_arr = []\n",
    "for ele in lst:\n",
    "    heappush(heap_arr, ele)\n",
    "heap_arr"
   ]
  },
  {
   "cell_type": "code",
   "execution_count": 9,
   "metadata": {},
   "outputs": [
    {
     "data": {
      "text/plain": [
       "-8"
      ]
     },
     "execution_count": 9,
     "metadata": {},
     "output_type": "execute_result"
    }
   ],
   "source": [
    "heappop(heap_arr)"
   ]
  },
  {
   "cell_type": "code",
   "execution_count": 10,
   "metadata": {},
   "outputs": [
    {
     "data": {
      "text/plain": [
       "[-5, 1, -2, 4, 6, 8, 3]"
      ]
     },
     "execution_count": 10,
     "metadata": {},
     "output_type": "execute_result"
    }
   ],
   "source": [
    "heap_arr"
   ]
  },
  {
   "cell_type": "code",
   "execution_count": 6,
   "metadata": {},
   "outputs": [
    {
     "data": {
      "text/plain": [
       "[38, 39, 42, 83, 59, 91, 59, 99, 87, 77, 98, 91]"
      ]
     },
     "execution_count": 6,
     "metadata": {},
     "output_type": "execute_result"
    }
   ],
   "source": [
    "lst = [59, 87, 39, 77, 59, 91, 42, 99, 83, 38, 98, 91]\n",
    "heap_push(lst)"
   ]
  },
  {
   "cell_type": "markdown",
   "metadata": {},
   "source": [
    "## 11.1.1 Sorted Array: Supported Operations"
   ]
  },
  {
   "cell_type": "code",
   "execution_count": 19,
   "metadata": {},
   "outputs": [],
   "source": [
    "class SortedArray():\n",
    "    def __init__(self, arr):\n",
    "        self.arr = arr\n",
    "        \n",
    "#   Binary Search Implementation: For distinct Elements and gives any one instance if found\n",
    "    def search(self, ele, low=0, high=None):\n",
    "        if high == None:\n",
    "            high = len(self.arr)-1\n",
    "        if low > high:\n",
    "            return 'Element Not Found'\n",
    "        mid = (low+high)//2\n",
    "        if ele == self.arr[mid]:\n",
    "            return 'Found at index {}'.format(mid)\n",
    "        elif ele < self.arr[mid]:\n",
    "            return self.search(ele, low=low, high=mid-1)\n",
    "        elif ele > self.arr[mid]:\n",
    "            return self.search(ele, low=mid+1, high=high)\n",
    "\n",
    "#   Binary Search Implementation: For distinct or repeated Elements and if found, gives the instance whose index is minimum\n",
    "    def search_all_instances(self, ele, low=0, high=None):\n",
    "        if high == None:\n",
    "            high = len(self.arr)-1\n",
    "        if low > high:\n",
    "            return 'Element Not Found'\n",
    "        all_instances=[]\n",
    "        mid = (low+high)//2\n",
    "        if ele == self.arr[mid]:\n",
    "            all_instances.append(mid)\n",
    "            for i in range(mid+1, len(self.arr)):\n",
    "                if self.arr[i] == ele:\n",
    "                    all_instances.append(i)\n",
    "                else:\n",
    "                    break\n",
    "            for i in range(mid-1, -1, -1):\n",
    "                if self.arr[i] == ele:\n",
    "                    all_instances.append(i)\n",
    "                else:\n",
    "                    break\n",
    "            return all_instances\n",
    "        elif ele < self.arr[mid]:\n",
    "            return self.search_all_instances(ele, low=low, high=mid-1)\n",
    "        elif ele > self.arr[mid]:\n",
    "            return self.search_all_instances(ele, low=mid+1, high=high)\n",
    "        \n",
    "#   Return Minimum element     \n",
    "    def minimum(self):\n",
    "        return self.arr[0]\n",
    "\n",
    "#   Return Maximum element     \n",
    "    def maximum(self):\n",
    "        return self.arr[-1]\n",
    "\n",
    "#   Predrecessor of an element\n",
    "    def predecessor(self, ele):\n",
    "        rslt = self.search(ele)\n",
    "        if rslt == 'Element Not Found':\n",
    "            return rslt\n",
    "        idx = int(rslt[-1])\n",
    "        return self.arr[idx-1] if idx-1 >= 0 else 'None'\n",
    "    \n",
    "#   Successor of an element\n",
    "    def successor(self, ele):\n",
    "        rslt = self.search(ele)\n",
    "        if rslt == 'Element Not Found':\n",
    "            return rslt\n",
    "        idx = int(rslt[-1])\n",
    "        return self.arr[idx+1] if idx+1 < len(self.arr) else 'None'\n",
    "\n",
    "#   Output Sorted\n",
    "    def outputsorted(self):\n",
    "        for i in range(len(self.arr)):\n",
    "            seperator = '' if i == len(self.arr)-1 else ', ' \n",
    "            print(self.arr[i], end=seperator)\n",
    "            \n",
    "#   Select: Given a key, Returns index of that key. If multiple instances are found it returns instance whose index is minimum\n",
    "    def select(self, ele):\n",
    "        all_instances = self.search_all_instances(ele)\n",
    "        return min(all_instances)\n",
    "    \n",
    "#   Select: Given i for ith_smallest element, Returns value of the instance.\n",
    "    def select_book_version(self, ith_smallest):\n",
    "        index = ith_smallest-1\n",
    "        return self.arr[index]\n",
    "    \n",
    "#   Rank Implementation using Binary Search: Returns total no.of elements <= search key (ele)\n",
    "#   (Works for both distinct or repeated elements)\n",
    "    def rank(self, ele, low=0, high=None):\n",
    "        if high == None:\n",
    "            high = len(self.arr)-1\n",
    "        if low > high:\n",
    "            return 'Rank of {} is {}'.format(ele, high+1)\n",
    "        all_instances = []\n",
    "        mid = (low+high)//2\n",
    "        if ele == self.arr[mid]:\n",
    "            all_instances.append(mid)\n",
    "            for i in range(mid+1, len(self.arr)):\n",
    "                if self.arr[i] == ele:\n",
    "                    all_instances.append(i)\n",
    "                else:\n",
    "                    break\n",
    "            for i in range(mid-1, -1, -1):\n",
    "                if self.arr[i] == ele:\n",
    "                    all_instances.append(i)\n",
    "                else:\n",
    "                    break\n",
    "            return 'Rank of {} is {}'.format(ele, max(all_instances)+1)\n",
    "        elif ele < self.arr[mid]:\n",
    "            return self.rank(ele, low=low, high=mid-1)\n",
    "        elif ele > self.arr[mid]:\n",
    "            return self.rank(ele, low=mid+1, high=high)"
   ]
  },
  {
   "cell_type": "code",
   "execution_count": 20,
   "metadata": {},
   "outputs": [],
   "source": [
    "lst = [-8, -5, -2, 1, 3, 4, 6, 8]\n",
    "sa = SortedArray(lst)"
   ]
  },
  {
   "cell_type": "code",
   "execution_count": 8,
   "metadata": {},
   "outputs": [
    {
     "data": {
      "text/plain": [
       "'Found at index 0'"
      ]
     },
     "execution_count": 8,
     "metadata": {},
     "output_type": "execute_result"
    }
   ],
   "source": [
    "sa.search(-8)"
   ]
  },
  {
   "cell_type": "code",
   "execution_count": 9,
   "metadata": {},
   "outputs": [
    {
     "data": {
      "text/plain": [
       "'None'"
      ]
     },
     "execution_count": 9,
     "metadata": {},
     "output_type": "execute_result"
    }
   ],
   "source": [
    "sa.predecessor(-8)"
   ]
  },
  {
   "cell_type": "code",
   "execution_count": 10,
   "metadata": {},
   "outputs": [
    {
     "data": {
      "text/plain": [
       "'None'"
      ]
     },
     "execution_count": 10,
     "metadata": {},
     "output_type": "execute_result"
    }
   ],
   "source": [
    "sa.successor(8)"
   ]
  },
  {
   "cell_type": "code",
   "execution_count": 11,
   "metadata": {},
   "outputs": [
    {
     "name": "stdout",
     "output_type": "stream",
     "text": [
      "-8, -5, -2, 1, 3, 4, 6, 8"
     ]
    }
   ],
   "source": [
    "sa.outputsorted()"
   ]
  },
  {
   "cell_type": "code",
   "execution_count": 21,
   "metadata": {},
   "outputs": [
    {
     "data": {
      "text/plain": [
       "2"
      ]
     },
     "execution_count": 21,
     "metadata": {},
     "output_type": "execute_result"
    }
   ],
   "source": [
    "sa.select(-2)"
   ]
  },
  {
   "cell_type": "code",
   "execution_count": 23,
   "metadata": {},
   "outputs": [
    {
     "data": {
      "text/plain": [
       "-2"
      ]
     },
     "execution_count": 23,
     "metadata": {},
     "output_type": "execute_result"
    }
   ],
   "source": [
    "sa.select_book_version(3)"
   ]
  },
  {
   "cell_type": "code",
   "execution_count": 13,
   "metadata": {},
   "outputs": [
    {
     "data": {
      "text/plain": [
       "'Rank of 12 is 8'"
      ]
     },
     "execution_count": 13,
     "metadata": {},
     "output_type": "execute_result"
    }
   ],
   "source": [
    "sa.rank(12)"
   ]
  },
  {
   "cell_type": "code",
   "execution_count": 17,
   "metadata": {},
   "outputs": [],
   "source": [
    "lst = [38, 39, 42, 57, 59, 59, 77, 83, 87, 91, 91, 98, 99, 99]\n",
    "sa = SortedArray(lst)"
   ]
  },
  {
   "cell_type": "code",
   "execution_count": 4,
   "metadata": {},
   "outputs": [
    {
     "data": {
      "text/plain": [
       "4"
      ]
     },
     "execution_count": 4,
     "metadata": {},
     "output_type": "execute_result"
    }
   ],
   "source": [
    "sa.select(59)"
   ]
  },
  {
   "cell_type": "code",
   "execution_count": 18,
   "metadata": {},
   "outputs": [
    {
     "data": {
      "text/plain": [
       "59"
      ]
     },
     "execution_count": 18,
     "metadata": {},
     "output_type": "execute_result"
    }
   ],
   "source": [
    "sa.select_book_version(4)"
   ]
  },
  {
   "cell_type": "code",
   "execution_count": 5,
   "metadata": {},
   "outputs": [
    {
     "data": {
      "text/plain": [
       "'Rank of 59 is 6'"
      ]
     },
     "execution_count": 5,
     "metadata": {},
     "output_type": "execute_result"
    }
   ],
   "source": [
    "sa.rank(59)"
   ]
  },
  {
   "cell_type": "markdown",
   "metadata": {},
   "source": [
    "## 11.2, 11.3 Search Trees: Supported Operations"
   ]
  },
  {
   "cell_type": "code",
   "execution_count": 49,
   "metadata": {},
   "outputs": [],
   "source": [
    "class SearchTree():\n",
    "    def __init__(self):\n",
    "        self.arr = []\n",
    "        \n",
    "#   This function inserts an element into Search Tree as you enter the key.\n",
    "#   The first entered element is considered as root node and \n",
    "#   all the next elements are placed appropriately to maintain the property of Search Tree\n",
    "    def insert(self, ele):\n",
    "        if self.arr:\n",
    "            i = 0\n",
    "            while True:\n",
    "                if ele <= self.arr[i][0]:\n",
    "                    if self.arr[i][1][1] == 'Null':\n",
    "                        self.arr.append([ele, [i, 'Null', 'Null']])\n",
    "                        self.arr[i][1][1] = len(self.arr)-1\n",
    "                        break\n",
    "                    else:\n",
    "                        i = self.arr[i][1][1]\n",
    "                else:\n",
    "                    if self.arr[i][1][2] == 'Null':\n",
    "                        self.arr.append([ele, [i, 'Null', 'Null']])\n",
    "                        self.arr[i][1][2] = len(self.arr)-1\n",
    "                        break\n",
    "                    else:\n",
    "                        i = self.arr[i][1][2]\n",
    "        else:\n",
    "            self.arr.append([ele, ['Null', 'Null', 'Null']])\n",
    "\n",
    "#   This function return the Saecrh Tree (array)\n",
    "    def access_array(self):\n",
    "        return self.arr\n",
    "\n",
    "#   Returns the length of the Search Tree == No.of elements in Search Tree\n",
    "    def length(self):\n",
    "        return len(self.arr)\n",
    "    \n",
    "#   This function searches for the instances of the given key and returns index of the key if found\n",
    "#   If multiple instances are available, it returns all the indices of these muliple instances\n",
    "    def search(self, ele, node_idx=0):\n",
    "        if node_idx == 'Null':\n",
    "            return 'Not Found'\n",
    "        search_element_idx = []\n",
    "        i = node_idx\n",
    "        if ele == self.arr[i][0]:\n",
    "            search_element_idx.append(i)\n",
    "            rslt = self.search(ele, node_idx=self.arr[i][1][1])\n",
    "            if rslt != 'Not Found':\n",
    "                for idx in rslt:\n",
    "                    search_element_idx.append(idx)\n",
    "            return search_element_idx\n",
    "        elif ele < self.arr[i][0]:\n",
    "            return self.search(ele, node_idx=self.arr[i][1][1])\n",
    "        else: # ele > self.arr[i][0]\n",
    "            return self.search(ele, node_idx=self.arr[i][1][2])\n",
    "\n",
    "#   Returns the minimum element of the Search Tree\n",
    "    def minimum(self, node_idx=0):\n",
    "        i = node_idx\n",
    "        if self.arr[i][1][1] == 'Null':\n",
    "            return self.arr[i][0]\n",
    "        return self.minimum(self.arr[i][1][1])\n",
    "    \n",
    "#   Returns the maximum element of the Search Tree\n",
    "    def maximum(self, node_idx=0):\n",
    "        i = node_idx\n",
    "        if self.arr[i][1][2] == 'Null':\n",
    "            return self.arr[i][0]\n",
    "        return self.maximum(self.arr[i][1][2])\n",
    "\n",
    "#   Returns the predecessor of the given key\n",
    "    def predecessor(self, ele, node_idx=0):\n",
    "        idx = node_idx\n",
    "        if node_idx == 0:\n",
    "            idx = self.search(ele)\n",
    "            rslt = []\n",
    "            for i in idx:\n",
    "                if i == 0:\n",
    "                    rslt.append(self.maximum(node_idx=self.arr[i][1][1]))\n",
    "                    continue\n",
    "                rslt.append(self.predecessor(ele, node_idx=i))\n",
    "            rslt = [item if type(item) != str else float('inf') for item in rslt]\n",
    "            predecessor_ele = min(rslt) if min(rslt) != float('inf') else 'No Predecessor Available'\n",
    "            return predecessor_ele\n",
    "        parent_node = self.arr[idx][1][0]\n",
    "        left_node = self.arr[idx][1][1]\n",
    "        right_node = self.arr[idx][1][2]\n",
    "        parents_parent = self.arr[parent_node][1][0]\n",
    "        if left_node != 'Null':\n",
    "            return self.maximum(node_idx=left_node)\n",
    "        elif parent_node != 'Null' and self.arr[parent_node][1][2] == idx:\n",
    "            return self.arr[parent_node][0]\n",
    "        elif (parent_node != 'Null' and self.arr[parent_node][1][1] == idx and \n",
    "              parents_parent != 'Null' and self.arr[parents_parent][1][2] == parent_node):\n",
    "            return self.arr[parents_parent][0]\n",
    "        else:\n",
    "            return 'No Predecessor Available'\n",
    "\n",
    "#   Returns the successor of the given key\n",
    "    def successor(self, ele, node_idx=0):\n",
    "        idx = node_idx\n",
    "        if node_idx == 0:\n",
    "            idx = self.search(ele)\n",
    "            rslt = []\n",
    "            for i in idx:\n",
    "                if i == 0:\n",
    "                    rslt.append(self.minimum(node_idx=self.arr[i][1][2]))\n",
    "                    continue\n",
    "                rslt.append(self.successor(ele, node_idx=i))\n",
    "            rslt = [item if type(item) != str else float('-inf') for item in rslt]\n",
    "            successor_ele = max(rslt) if max(rslt) != float('-inf') else 'No Successor Available'            \n",
    "            return successor_ele\n",
    "        parent_node = self.arr[idx][1][0]\n",
    "        left_node = self.arr[idx][1][1]\n",
    "        right_node = self.arr[idx][1][2]\n",
    "        parents_parent = self.arr[parent_node][1][0]\n",
    "        if right_node != 'Null':\n",
    "            return self.minimum(node_idx=right_node)\n",
    "        elif parent_node != 'Null' and self.arr[parent_node][1][1] == idx:\n",
    "            return self.arr[parent_node][0]\n",
    "        elif (parent_node != 'Null' and self.arr[parent_node][1][2] == idx and \n",
    "              parents_parent != 'Null' and self.arr[parents_parent][1][1] == parent_node):\n",
    "            return self.arr[parents_parent][0]\n",
    "        else:\n",
    "            return 'No Successor Available'\n",
    "\n",
    "#   Dispolay all the elements of Search Tree in a sorted order\n",
    "    def outputsorted(self, node_idx=0):\n",
    "        idx = node_idx\n",
    "        left_node = self.arr[idx][1][1]\n",
    "        right_node = self.arr[idx][1][2]\n",
    "        left_value = self.outputsorted(node_idx=left_node) if left_node != 'Null' else []\n",
    "        parent_value = [self.arr[idx][0]]\n",
    "        right_value = self.outputsorted(node_idx=right_node) if right_node != 'Null' else []\n",
    "        return left_value + parent_value + right_value\n",
    "            \n",
    "#   Select: Given a key, Returns index of that key. If multiple instances found return smallest index\n",
    "    def select(self, ele):\n",
    "        index = self.search(ele)\n",
    "        return min(index)\n",
    "    \n",
    "#   This function appends size of each node to their respective subarray.\n",
    "#   For example, after updating size the node array looks like [1, [0, 5, 4], 8]\n",
    "#   From above, 1 indicates node value. [0, 5, 4] indicates indices of parent node, left node and right node of node value 1\n",
    "#   Last term, 8 indicates size of the node\n",
    "#   meaning how many elements are there in the subtree starting from node value 1 (inclduing itself)\n",
    "    def size(self, node_idx=0):\n",
    "        idx = node_idx\n",
    "        if idx == 'Null':\n",
    "            return 0\n",
    "        left_node = self.arr[idx][1][1]\n",
    "        right_node = self.arr[idx][1][2]\n",
    "        left = self.size(node_idx=left_node)\n",
    "        current_node = 1\n",
    "        right = self.size(node_idx=right_node)\n",
    "        total_size = left + current_node + right\n",
    "        if len(self.arr[idx]) == 2:\n",
    "            self.arr[idx].append(total_size)\n",
    "        elif len(self.arr[idx]) == 3:\n",
    "            self.arr[idx][2] = total_size\n",
    "        return total_size if idx != 0 else None\n",
    "    \n",
    "#   Select: Given i for ith_smallest element, Returns value of the instance.\n",
    "    def select_book_version(self, ith_smallest, node_idx=None):\n",
    "        if node_idx == 'Null':\n",
    "            raise IndexError('ith samllest element is out of bound')\n",
    "        node_idx = 0 if not node_idx else node_idx\n",
    "        left_node = self.arr[node_idx][1][1]\n",
    "        right_node = self.arr[node_idx][1][2]\n",
    "        left_subtree_size = self.arr[left_node][2] if left_node != 'Null' else 0\n",
    "        if ith_smallest == left_subtree_size+1:\n",
    "            rslt = self.arr[node_idx]\n",
    "        elif ith_smallest < left_subtree_size+1:\n",
    "            rslt = self.select_book_version(ith_smallest, node_idx=left_node)\n",
    "        else: # ith_smallest > left_subtree_size+1\n",
    "            rslt = self.select_book_version(ith_smallest-(left_subtree_size+1), node_idx=right_node)\n",
    "        return rslt\n",
    "    \n",
    "\n",
    "# This method is useful for modifying the elements and their parent, left and right child indices so that\n",
    "# we can delete that particular element which wants to be deleted without any future dependencies on this element\n",
    "# Thus, for removing these dependencies on deleting element we need to perform modifications\n",
    "    def modifications_after_deletion(self, index, node_idx=0):\n",
    "        idx = node_idx\n",
    "        if idx == 'Null':\n",
    "            return\n",
    "        left_node = self.arr[idx][1][1]\n",
    "        right_node = self.arr[idx][1][2]\n",
    "        self.modifications_after_deletion(index, node_idx=left_node)\n",
    "        self.modifications_after_deletion(index, node_idx=right_node)\n",
    "        if idx > index:\n",
    "#           Decrementing Parent Node index\n",
    "            if self.arr[idx][1][0] > index:\n",
    "                self.arr[idx][1][0] -= 1\n",
    "#           Decrementing left node index\n",
    "            if self.arr[idx][1][1] != 'Null':\n",
    "                self.arr[idx][1][1] -= 1 \n",
    "#           Decrementing right node index\n",
    "            if self.arr[idx][1][2] != 'Null':\n",
    "                self.arr[idx][1][2] -= 1\n",
    "        elif idx < index: # if any node < index and it's left node or right node > index, \n",
    "#                           we need to decrement it's respective left and right node indices\n",
    "            if self.arr[idx][1][1] != 'Null' and self.arr[idx][1][1] > index:\n",
    "                self.arr[idx][1][1] -= 1\n",
    "            if self.arr[idx][1][2] != 'Null' and self.arr[idx][1][2] > index:\n",
    "                self.arr[idx][1][2] -= 1\n",
    "\n",
    "                \n",
    "#   Deletes the element 'ele'; If multiple instances of 'ele' is present we will delete the element whose index is maximum.\n",
    "#   All of this is done only if we don't pass node_idx(and takes default value 'None'). If we pass node_idx then that particular\n",
    "#   node would be deleted irrespective of key 'ele'\n",
    "    def delete(self, ele, node_idx=None):\n",
    "        #   Returns the maximum element of the Search Tree\n",
    "        def maximum(node_idx=0):\n",
    "            i = node_idx\n",
    "            if self.arr[i][1][2] == 'Null':\n",
    "                return [i, self.arr[i][0]]\n",
    "            return maximum(self.arr[i][1][2])\n",
    "        idx = max(self.search(ele)) if not node_idx else node_idx\n",
    "        parent_node = self.arr[idx][1][0]\n",
    "        left_node = self.arr[idx][1][1]\n",
    "        right_node = self.arr[idx][1][2]\n",
    "        if left_node == 'Null' and right_node == 'Null':\n",
    "            if self.arr[idx][0] > self.arr[parent_node][0]: # If it's right node\n",
    "                self.arr[parent_node][1][2] = 'Null'\n",
    "            else: # self.arr[idx][0] <= self.arr[parent_node][0] # If it's left node\n",
    "                self.arr[parent_node][1][1] = 'Null'\n",
    "            self.modifications_after_deletion(idx)\n",
    "            self.arr.pop(idx)\n",
    "        elif left_node != 'Null' and right_node == 'Null':\n",
    "            self.arr[left_node][1][0] = self.arr[idx][1][0]\n",
    "            if self.arr[parent_node][1][1] == idx:\n",
    "                self.arr[parent_node][1][1] = self.arr[idx][1][1]\n",
    "            elif self.arr[parent_node][1][2] == idx:\n",
    "                self.arr[parent_node][1][2] = self.arr[idx][1][1]\n",
    "            self.modifications_after_deletion(idx)\n",
    "            self.arr.pop(idx)            \n",
    "        elif left_node == 'Null' and right_node != 'Null':\n",
    "            self.arr[right_node][1][0] = self.arr[idx][1][0]\n",
    "            if self.arr[parent_node][1][1] == idx:\n",
    "                self.arr[parent_node][1][1] = self.arr[idx][1][2]\n",
    "            elif self.arr[parent_node][1][2] == idx:\n",
    "                self.arr[parent_node][1][2] = self.arr[idx][1][2]\n",
    "            self.modifications_after_deletion(idx)\n",
    "            self.arr.pop(idx)\n",
    "        else: # left_node != 'Null' and right_node != 'Null'\n",
    "            max_ele = maximum(node_idx=left_node)\n",
    "            max_idx = max_ele[0]\n",
    "            self.arr[idx], self.arr[max_idx] = self.arr[max_idx], self.arr[idx]\n",
    "            self.arr[idx][1], self.arr[max_idx][1] = self.arr[max_idx][1], self.arr[idx][1]\n",
    "            self.delete(self.arr[max_idx][0], node_idx=max_idx)"
   ]
  },
  {
   "cell_type": "code",
   "execution_count": 38,
   "metadata": {},
   "outputs": [],
   "source": [
    "st = SearchTree()"
   ]
  },
  {
   "cell_type": "code",
   "execution_count": 3,
   "metadata": {},
   "outputs": [],
   "source": [
    "lst = [3, 1, 5, 4, 2, 0, 6, -1, 1, 1, 2, 3]\n",
    "for ele in lst:\n",
    "    st.insert(ele)"
   ]
  },
  {
   "cell_type": "code",
   "execution_count": 35,
   "metadata": {},
   "outputs": [
    {
     "data": {
      "text/plain": [
       "[[3, ['Null', 1, 2]],\n",
       " [1, [0, 5, 4]],\n",
       " [5, [0, 3, 6]],\n",
       " [4, [2, 'Null', 'Null']],\n",
       " [2, [1, 10, 11]],\n",
       " [0, [1, 7, 8]],\n",
       " [6, [2, 'Null', 'Null']],\n",
       " [-1, [5, 'Null', 'Null']],\n",
       " [1, [5, 9, 'Null']],\n",
       " [1, [8, 'Null', 'Null']],\n",
       " [2, [4, 'Null', 'Null']],\n",
       " [3, [4, 'Null', 'Null']]]"
      ]
     },
     "execution_count": 35,
     "metadata": {},
     "output_type": "execute_result"
    }
   ],
   "source": [
    "st.access_array()"
   ]
  },
  {
   "cell_type": "code",
   "execution_count": 17,
   "metadata": {},
   "outputs": [
    {
     "data": {
      "text/plain": [
       "[0, 11]"
      ]
     },
     "execution_count": 17,
     "metadata": {},
     "output_type": "execute_result"
    }
   ],
   "source": [
    "st.search(3)"
   ]
  },
  {
   "cell_type": "code",
   "execution_count": 18,
   "metadata": {},
   "outputs": [
    {
     "data": {
      "text/plain": [
       "'Not Found'"
      ]
     },
     "execution_count": 18,
     "metadata": {},
     "output_type": "execute_result"
    }
   ],
   "source": [
    "st.search(9)"
   ]
  },
  {
   "cell_type": "code",
   "execution_count": 19,
   "metadata": {},
   "outputs": [
    {
     "data": {
      "text/plain": [
       "-1"
      ]
     },
     "execution_count": 19,
     "metadata": {},
     "output_type": "execute_result"
    }
   ],
   "source": [
    "st.minimum()"
   ]
  },
  {
   "cell_type": "code",
   "execution_count": 20,
   "metadata": {},
   "outputs": [
    {
     "data": {
      "text/plain": [
       "6"
      ]
     },
     "execution_count": 20,
     "metadata": {},
     "output_type": "execute_result"
    }
   ],
   "source": [
    "st.maximum()"
   ]
  },
  {
   "cell_type": "code",
   "execution_count": 4,
   "metadata": {},
   "outputs": [
    {
     "data": {
      "text/plain": [
       "2"
      ]
     },
     "execution_count": 4,
     "metadata": {},
     "output_type": "execute_result"
    }
   ],
   "source": [
    "st.predecessor(3)"
   ]
  },
  {
   "cell_type": "code",
   "execution_count": 122,
   "metadata": {},
   "outputs": [
    {
     "data": {
      "text/plain": [
       "'No Predecessor Available'"
      ]
     },
     "execution_count": 122,
     "metadata": {},
     "output_type": "execute_result"
    }
   ],
   "source": [
    "st.predecessor(-1)"
   ]
  },
  {
   "cell_type": "code",
   "execution_count": 124,
   "metadata": {},
   "outputs": [
    {
     "data": {
      "text/plain": [
       "4"
      ]
     },
     "execution_count": 124,
     "metadata": {},
     "output_type": "execute_result"
    }
   ],
   "source": [
    "st.successor(3)"
   ]
  },
  {
   "cell_type": "code",
   "execution_count": 154,
   "metadata": {},
   "outputs": [
    {
     "data": {
      "text/plain": [
       "'No Successor Available'"
      ]
     },
     "execution_count": 154,
     "metadata": {},
     "output_type": "execute_result"
    }
   ],
   "source": [
    "st.successor(6)"
   ]
  },
  {
   "cell_type": "code",
   "execution_count": 155,
   "metadata": {},
   "outputs": [
    {
     "data": {
      "text/plain": [
       "[-1, 0, 1, 1, 1, 2, 2, 3, 3, 4, 5, 6]"
      ]
     },
     "execution_count": 155,
     "metadata": {},
     "output_type": "execute_result"
    }
   ],
   "source": [
    "st.outputsorted()"
   ]
  },
  {
   "cell_type": "code",
   "execution_count": 27,
   "metadata": {},
   "outputs": [],
   "source": [
    "st = SearchTree()\n",
    "lst = [3, 1, 5, 4, 2, 0, 6, -1, 1, 1, 2, 3]\n",
    "for ele in lst:\n",
    "    st.insert(ele)"
   ]
  },
  {
   "cell_type": "code",
   "execution_count": 28,
   "metadata": {},
   "outputs": [],
   "source": [
    "st.size()"
   ]
  },
  {
   "cell_type": "code",
   "execution_count": 29,
   "metadata": {
    "scrolled": true
   },
   "outputs": [
    {
     "data": {
      "text/plain": [
       "[[3, ['Null', 1, 2], 12],\n",
       " [1, [0, 5, 4], 8],\n",
       " [5, [0, 3, 6], 3],\n",
       " [4, [2, 'Null', 'Null'], 1],\n",
       " [2, [1, 10, 11], 3],\n",
       " [0, [1, 7, 8], 4],\n",
       " [6, [2, 'Null', 'Null'], 1],\n",
       " [-1, [5, 'Null', 'Null'], 1],\n",
       " [1, [5, 9, 'Null'], 2],\n",
       " [1, [8, 'Null', 'Null'], 1],\n",
       " [2, [4, 'Null', 'Null'], 1],\n",
       " [3, [4, 'Null', 'Null'], 1]]"
      ]
     },
     "execution_count": 29,
     "metadata": {},
     "output_type": "execute_result"
    }
   ],
   "source": [
    "st.access_array()"
   ]
  },
  {
   "cell_type": "code",
   "execution_count": 30,
   "metadata": {},
   "outputs": [
    {
     "data": {
      "text/plain": [
       "[[3, ['Null', 1, 2], 12],\n",
       " [1, [0, 5, 4], 8],\n",
       " [5, [0, 3, 6], 3],\n",
       " [4, [2, 'Null', 'Null'], 1],\n",
       " [2, [1, 10, 11], 3],\n",
       " [0, [1, 7, 8], 4],\n",
       " [6, [2, 'Null', 'Null'], 1],\n",
       " [-1, [5, 'Null', 'Null'], 1],\n",
       " [1, [5, 9, 'Null'], 2],\n",
       " [1, [8, 12, 'Null'], 1],\n",
       " [2, [4, 'Null', 'Null'], 1],\n",
       " [3, [4, 'Null', 'Null'], 1],\n",
       " [1, [9, 'Null', 'Null']]]"
      ]
     },
     "execution_count": 30,
     "metadata": {},
     "output_type": "execute_result"
    }
   ],
   "source": [
    "st.insert(1)\n",
    "st.access_array()"
   ]
  },
  {
   "cell_type": "code",
   "execution_count": 31,
   "metadata": {},
   "outputs": [
    {
     "data": {
      "text/plain": [
       "[[3, ['Null', 1, 2], 13],\n",
       " [1, [0, 5, 4], 9],\n",
       " [5, [0, 3, 6], 3],\n",
       " [4, [2, 'Null', 'Null'], 1],\n",
       " [2, [1, 10, 11], 3],\n",
       " [0, [1, 7, 8], 5],\n",
       " [6, [2, 'Null', 'Null'], 1],\n",
       " [-1, [5, 'Null', 'Null'], 1],\n",
       " [1, [5, 9, 'Null'], 3],\n",
       " [1, [8, 12, 'Null'], 2],\n",
       " [2, [4, 'Null', 'Null'], 1],\n",
       " [3, [4, 'Null', 'Null'], 1],\n",
       " [1, [9, 'Null', 'Null'], 1]]"
      ]
     },
     "execution_count": 31,
     "metadata": {},
     "output_type": "execute_result"
    }
   ],
   "source": [
    "st.size()\n",
    "st.access_array()"
   ]
  },
  {
   "cell_type": "code",
   "execution_count": 34,
   "metadata": {},
   "outputs": [
    {
     "data": {
      "text/plain": [
       "[-1, 0, 1, 1, 1, 1, 2, 2, 3, 3, 4, 5, 6]"
      ]
     },
     "execution_count": 34,
     "metadata": {},
     "output_type": "execute_result"
    }
   ],
   "source": [
    "st.outputsorted()"
   ]
  },
  {
   "cell_type": "code",
   "execution_count": 33,
   "metadata": {},
   "outputs": [
    {
     "data": {
      "text/plain": [
       "[2, [4, 'Null', 'Null'], 1]"
      ]
     },
     "execution_count": 33,
     "metadata": {},
     "output_type": "execute_result"
    }
   ],
   "source": [
    "st.select_book_version(7)"
   ]
  },
  {
   "cell_type": "code",
   "execution_count": 3,
   "metadata": {},
   "outputs": [
    {
     "data": {
      "text/plain": [
       "[[10, ['Null', 1, 2]],\n",
       " [7, [0, 3, 'Null']],\n",
       " [12, [0, 5, 8]],\n",
       " [3, [1, 4, 6]],\n",
       " [1, [3, 13, 7]],\n",
       " [11, [2, 'Null', 'Null']],\n",
       " [5, [3, 9, 12]],\n",
       " [2, [4, 'Null', 'Null']],\n",
       " [13, [2, 'Null', 10]],\n",
       " [4, [6, 'Null', 'Null']],\n",
       " [14, [8, 16, 11]],\n",
       " [15, [10, 17, 14]],\n",
       " [6, [6, 'Null', 'Null']],\n",
       " [-2, [4, 18, 15]],\n",
       " [16, [11, 20, 21]],\n",
       " [-1, [13, 'Null', 'Null']],\n",
       " [14, [10, 'Null', 'Null']],\n",
       " [15, [11, 'Null', 'Null']],\n",
       " [-3, [13, 19, 'Null']],\n",
       " [-4, [18, 'Null', 'Null']],\n",
       " [16, [14, 'Null', 'Null']],\n",
       " [17, [14, 'Null', 22]],\n",
       " [18, [21, 'Null', 'Null']]]"
      ]
     },
     "execution_count": 3,
     "metadata": {},
     "output_type": "execute_result"
    }
   ],
   "source": [
    "st = SearchTree()\n",
    "lst = [10, 7, 12, 3, 1, 11, 5, 2, 13, 4, 14, 15, 6, -2, 16, -1, 14, 15, -3, -4, 16, 17, 18]\n",
    "for ele in lst:\n",
    "    st.insert(ele)\n",
    "st.access_array()"
   ]
  },
  {
   "cell_type": "code",
   "execution_count": 6,
   "metadata": {},
   "outputs": [
    {
     "data": {
      "text/plain": [
       "[[10, ['Null', 1, 2]],\n",
       " [7, [0, 3, 'Null']],\n",
       " [12, [0, 5, 8]],\n",
       " [3, [1, 4, 6]],\n",
       " [1, [3, 12, 7]],\n",
       " [11, [2, 'Null', 'Null']],\n",
       " [5, [3, 'Null', 11]],\n",
       " [2, [4, 'Null', 'Null']],\n",
       " [13, [2, 'Null', 9]],\n",
       " [14, [8, 15, 10]],\n",
       " [15, [9, 16, 13]],\n",
       " [6, [6, 'Null', 'Null']],\n",
       " [-2, [4, 17, 14]],\n",
       " [16, [10, 19, 20]],\n",
       " [-1, [12, 'Null', 'Null']],\n",
       " [14, [9, 'Null', 'Null']],\n",
       " [15, [10, 'Null', 'Null']],\n",
       " [-3, [12, 18, 'Null']],\n",
       " [-4, [17, 'Null', 'Null']],\n",
       " [16, [13, 'Null', 'Null']],\n",
       " [17, [13, 'Null', 21]],\n",
       " [18, [20, 'Null', 'Null']]]"
      ]
     },
     "execution_count": 6,
     "metadata": {},
     "output_type": "execute_result"
    }
   ],
   "source": [
    "# No left or right childs for ele=4, at index 9\n",
    "st = SearchTree()\n",
    "lst = [10, 7, 12, 3, 1, 11, 5, 2, 13, 4, 14, 15, 6, -2, 16, -1, 14, 15, -3, -4, 16, 17, 18]\n",
    "for ele in lst:\n",
    "    st.insert(ele)\n",
    "st.delete(4)\n",
    "st.access_array()"
   ]
  },
  {
   "cell_type": "code",
   "execution_count": 10,
   "metadata": {},
   "outputs": [
    {
     "data": {
      "text/plain": [
       "[[10, ['Null', 2, 1]],\n",
       " [12, [0, 4, 7]],\n",
       " [3, [0, 3, 5]],\n",
       " [1, [2, 12, 6]],\n",
       " [11, [1, 'Null', 'Null']],\n",
       " [5, [2, 8, 11]],\n",
       " [2, [3, 'Null', 'Null']],\n",
       " [13, [1, 'Null', 9]],\n",
       " [4, [5, 'Null', 'Null']],\n",
       " [14, [7, 15, 10]],\n",
       " [15, [9, 16, 13]],\n",
       " [6, [5, 'Null', 'Null']],\n",
       " [-2, [3, 17, 14]],\n",
       " [16, [10, 19, 20]],\n",
       " [-1, [12, 'Null', 'Null']],\n",
       " [14, [9, 'Null', 'Null']],\n",
       " [15, [10, 'Null', 'Null']],\n",
       " [-3, [12, 18, 'Null']],\n",
       " [-4, [17, 'Null', 'Null']],\n",
       " [16, [13, 'Null', 'Null']],\n",
       " [17, [13, 'Null', 21]],\n",
       " [18, [20, 'Null', 'Null']]]"
      ]
     },
     "execution_count": 10,
     "metadata": {},
     "output_type": "execute_result"
    }
   ],
   "source": [
    "# Only Left child and no right child; for ele=7 at index 1\n",
    "st = SearchTree()\n",
    "lst = [10, 7, 12, 3, 1, 11, 5, 2, 13, 4, 14, 15, 6, -2, 16, -1, 14, 15, -3, -4, 16, 17, 18]\n",
    "for ele in lst:\n",
    "    st.insert(ele)\n",
    "st.delete(7)\n",
    "st.access_array()"
   ]
  },
  {
   "cell_type": "code",
   "execution_count": 55,
   "metadata": {},
   "outputs": [
    {
     "data": {
      "text/plain": [
       "[[10, ['Null', 1, 2]],\n",
       " [7, [0, 3, 'Null']],\n",
       " [12, [0, 5, 9]],\n",
       " [3, [1, 4, 6]],\n",
       " [1, [3, 12, 7]],\n",
       " [11, [2, 'Null', 'Null']],\n",
       " [5, [3, 8, 11]],\n",
       " [2, [4, 'Null', 'Null']],\n",
       " [4, [6, 'Null', 'Null']],\n",
       " [14, [2, 15, 10]],\n",
       " [15, [9, 16, 13]],\n",
       " [6, [6, 'Null', 'Null']],\n",
       " [-2, [4, 17, 14]],\n",
       " [16, [10, 19, 20]],\n",
       " [-1, [12, 'Null', 'Null']],\n",
       " [14, [9, 'Null', 'Null']],\n",
       " [15, [10, 'Null', 'Null']],\n",
       " [-3, [12, 18, 'Null']],\n",
       " [-4, [17, 'Null', 'Null']],\n",
       " [16, [13, 'Null', 'Null']],\n",
       " [17, [13, 'Null', 21]],\n",
       " [18, [20, 'Null', 'Null']]]"
      ]
     },
     "execution_count": 55,
     "metadata": {},
     "output_type": "execute_result"
    }
   ],
   "source": [
    "# Only right child and no left child; for ele=13 at index 8\n",
    "st = SearchTree()\n",
    "lst = [10, 7, 12, 3, 1, 11, 5, 2, 13, 4, 14, 15, 6, -2, 16, -1, 14, 15, -3, -4, 16, 17, 18]\n",
    "for ele in lst:\n",
    "    st.insert(ele)\n",
    "st.delete(13)\n",
    "st.access_array()"
   ]
  },
  {
   "cell_type": "code",
   "execution_count": 11,
   "metadata": {},
   "outputs": [
    {
     "data": {
      "text/plain": [
       "[[10, ['Null', 1, 2]],\n",
       " [7, [0, 3, 'Null']],\n",
       " [12, [0, 5, 7]],\n",
       " [2, [1, 4, 6]],\n",
       " [1, [3, 12, 'Null']],\n",
       " [11, [2, 'Null', 'Null']],\n",
       " [5, [3, 8, 11]],\n",
       " [13, [2, 'Null', 9]],\n",
       " [4, [6, 'Null', 'Null']],\n",
       " [14, [7, 15, 10]],\n",
       " [15, [9, 16, 13]],\n",
       " [6, [6, 'Null', 'Null']],\n",
       " [-2, [4, 17, 14]],\n",
       " [16, [10, 19, 20]],\n",
       " [-1, [12, 'Null', 'Null']],\n",
       " [14, [9, 'Null', 'Null']],\n",
       " [15, [10, 'Null', 'Null']],\n",
       " [-3, [12, 18, 'Null']],\n",
       " [-4, [17, 'Null', 'Null']],\n",
       " [16, [13, 'Null', 'Null']],\n",
       " [17, [13, 'Null', 21]],\n",
       " [18, [20, 'Null', 'Null']]]"
      ]
     },
     "execution_count": 11,
     "metadata": {},
     "output_type": "execute_result"
    }
   ],
   "source": [
    "# Both left and right child available; for ele=3 at index 3\n",
    "st = SearchTree()\n",
    "lst = [10, 7, 12, 3, 1, 11, 5, 2, 13, 4, 14, 15, 6, -2, 16, -1, 14, 15, -3, -4, 16, 17, 18]\n",
    "for ele in lst:\n",
    "    st.insert(ele)\n",
    "st.delete(3)\n",
    "st.access_array()"
   ]
  },
  {
   "cell_type": "code",
   "execution_count": 52,
   "metadata": {},
   "outputs": [],
   "source": [
    "st = SearchTree()\n",
    "lst = [3, 1, 5, 2, 4]\n",
    "for ele in lst:\n",
    "    st.insert(ele)"
   ]
  },
  {
   "cell_type": "code",
   "execution_count": 53,
   "metadata": {},
   "outputs": [
    {
     "data": {
      "text/plain": [
       "[[3, ['Null', 2, 1]],\n",
       " [5, [0, 3, 'Null']],\n",
       " [2, [0, 'Null', 'Null']],\n",
       " [4, [1, 'Null', 'Null']]]"
      ]
     },
     "execution_count": 53,
     "metadata": {},
     "output_type": "execute_result"
    }
   ],
   "source": [
    "# 1 has no left child\n",
    "st.delete(1)\n",
    "st.access_array()"
   ]
  },
  {
   "cell_type": "code",
   "execution_count": 54,
   "metadata": {},
   "outputs": [
    {
     "data": {
      "text/plain": [
       "[[3, ['Null', 1, 2]], [2, [0, 'Null', 'Null']], [4, [0, 'Null', 'Null']]]"
      ]
     },
     "execution_count": 54,
     "metadata": {},
     "output_type": "execute_result"
    }
   ],
   "source": [
    "# 5 has no right child\n",
    "st.delete(5)\n",
    "st.access_array()"
   ]
  },
  {
   "cell_type": "code",
   "execution_count": 9,
   "metadata": {},
   "outputs": [
    {
     "data": {
      "text/plain": [
       "[[10, ['Null', 1, 2]],\n",
       " [7, [0, 3, 'Null']],\n",
       " [12, [0, 5, 8]],\n",
       " [3, [1, 4, 6]],\n",
       " [1, [3, 13, 7]],\n",
       " [11, [2, 'Null', 'Null']],\n",
       " [5, [3, 9, 12]],\n",
       " [2, [4, 'Null', 'Null']],\n",
       " [13, [2, 'Null', 10]],\n",
       " [4, [6, 'Null', 'Null']],\n",
       " [14, [8, 16, 11]],\n",
       " [15, [10, 17, 14]],\n",
       " [6, [6, 'Null', 'Null']],\n",
       " [-2, [4, 18, 15]],\n",
       " [16, [11, 'Null', 20]],\n",
       " [-1, [13, 'Null', 'Null']],\n",
       " [14, [10, 'Null', 'Null']],\n",
       " [15, [11, 'Null', 'Null']],\n",
       " [-3, [13, 19, 'Null']],\n",
       " [-4, [18, 'Null', 'Null']],\n",
       " [17, [14, 'Null', 21]],\n",
       " [18, [20, 'Null', 'Null']]]"
      ]
     },
     "execution_count": 9,
     "metadata": {},
     "output_type": "execute_result"
    }
   ],
   "source": [
    "# This is just an example to showcase that delete() method can also be accessed by giving node_idx\n",
    "# This actually deletes that particular element at the give node_idx. This is more useful if multiple instances is available and\n",
    "# we want to delete any particular instance of these mulitple instances just by giving it's index.\n",
    "st = SearchTree()\n",
    "lst = [10, 7, 12, 3, 1, 11, 5, 2, 13, 4, 14, 15, 6, -2, 16, -1, 14, 15, -3, -4, 16, 17, 18]\n",
    "for ele in lst:\n",
    "    st.insert(ele)\n",
    "# Even though you have given 16 which is the 'ele' along with node_idx=20. The ele=16 doesn't have any relevance here and \n",
    "# is just passed to satisfy function call 'delete(None, node_idx=20)' works same as 'delete(16, node_idx=20)'.\n",
    "# The delete() method only uses node_idx=20 to delete the element at index 20 irrespective of what that element is.\n",
    "st.delete(16, node_idx=20)\n",
    "st.access_array()"
   ]
  },
  {
   "cell_type": "markdown",
   "metadata": {},
   "source": [
    "## Application: Median Maintenance using Search Tree\n",
    "Here we considered median as: If there are `$2k-1$ elements` (Odd length) `median = $k^{th}$ element` and if there are `$2k$ elements` (even length) `median = $k^{th}$ element` i.e. lower order term of both `$k^{th}$ element` and `$(k+1)^{th}$ element`"
   ]
  },
  {
   "cell_type": "code",
   "execution_count": 41,
   "metadata": {},
   "outputs": [],
   "source": [
    "def median_maintenance_searchtree(lst, Class_Call):\n",
    "    st = Class_Call()\n",
    "    medians_arr = []\n",
    "    for ele in lst:\n",
    "        st.insert(ele)\n",
    "        st.size()\n",
    "        median = st.select_book_version((st.length()+1)//2)\n",
    "        medians_arr.append(median[0])\n",
    "    return medians_arr"
   ]
  },
  {
   "cell_type": "code",
   "execution_count": 42,
   "metadata": {},
   "outputs": [
    {
     "name": "stdout",
     "output_type": "stream",
     "text": [
      "34.3 µs ± 912 ns per loop (mean ± std. dev. of 7 runs, 10000 loops each)\n"
     ]
    }
   ],
   "source": [
    "lst = [3, 4, -5, 1, 6, 8, -2, -8]\n",
    "%timeit median_maintenance_searchtree(lst, SearchTree)"
   ]
  },
  {
   "cell_type": "code",
   "execution_count": 43,
   "metadata": {},
   "outputs": [
    {
     "data": {
      "text/plain": [
       "[59, 59, 59, 59, 59, 59, 59, 59, 77, 59, 77, 77]"
      ]
     },
     "execution_count": 43,
     "metadata": {},
     "output_type": "execute_result"
    }
   ],
   "source": [
    "lst = [59, 87, 39, 77, 59, 91, 42, 99, 83, 38, 98, 91]\n",
    "median_maintenance_searchtree(lst, SearchTree)"
   ]
  },
  {
   "cell_type": "markdown",
   "metadata": {},
   "source": [
    "## Two-Sum Problem using Different Methods"
   ]
  },
  {
   "cell_type": "markdown",
   "metadata": {},
   "source": [
    "#### Method 1: Using Recursion (Divide and Conquer Approach)\n",
    "(Returns only distinct pairs i.e. if (x, y) is appeared twice or more returned just once)"
   ]
  },
  {
   "cell_type": "code",
   "execution_count": 28,
   "metadata": {},
   "outputs": [],
   "source": [
    "def final_two_sum_recursion(*args):\n",
    "    pairs = []\n",
    "    added_elements = {}\n",
    "    def two_sum_recursion(arr, target, left, right, initial_sort=True):\n",
    "        if left == right:\n",
    "            return [arr[left]]\n",
    "        if initial_sort:\n",
    "            arr.sort()\n",
    "        def binarysearch(arr2, element, low, high):\n",
    "            if low > high:\n",
    "                return ['Not Found']\n",
    "            mid = (low+high)//2\n",
    "            if element == arr2[mid]:\n",
    "                return ['Found', element]\n",
    "            elif element > arr2[mid]:\n",
    "                return binarysearch(arr2, element, mid+1, high)\n",
    "            else:\n",
    "                return binarysearch(arr2, element, low, mid-1)\n",
    "        mid = (left+right)//2\n",
    "        first_half = two_sum_recursion(arr, target, left, mid, initial_sort=False)\n",
    "        second_half = two_sum_recursion(arr, target, mid+1, right, initial_sort=False)\n",
    "        for ele in first_half:\n",
    "            rslt = binarysearch(second_half, target-ele, 0, len(second_half)-1)\n",
    "            if rslt[0] == 'Found':\n",
    "                if not added_elements.get(rslt[1]):\n",
    "    #               Here pairs list is a global variable\n",
    "                    pairs.append((ele, target-ele))\n",
    "                    added_elements[rslt[1]] = 'Yes'\n",
    "        return first_half+second_half if not initial_sort else pairs\n",
    "    return two_sum_recursion(*args)"
   ]
  },
  {
   "cell_type": "code",
   "execution_count": 29,
   "metadata": {},
   "outputs": [
    {
     "data": {
      "text/plain": [
       "[(-1, -1), (-10, 8), (-8, 6), (-5, 3), (-3, 1)]"
      ]
     },
     "execution_count": 29,
     "metadata": {},
     "output_type": "execute_result"
    }
   ],
   "source": [
    "lst = [-8, -5, -2, 1, -1, -1, -1, 6, 8, -8, 3, 4, -3, -10, 6, -1]\n",
    "final_two_sum_recursion(lst, -2, 0, len(lst)-1)"
   ]
  },
  {
   "cell_type": "code",
   "execution_count": 30,
   "metadata": {},
   "outputs": [
    {
     "data": {
      "text/plain": [
       "[(-8, 6), (-7, 5)]"
      ]
     },
     "execution_count": 30,
     "metadata": {},
     "output_type": "execute_result"
    }
   ],
   "source": [
    "lst = [6, 5, 6, -7, -8, -8, -2, 8, -8, -8]\n",
    "pairs = []\n",
    "final_two_sum_recursion(lst, -2, 0, len(lst)-1)"
   ]
  },
  {
   "cell_type": "markdown",
   "metadata": {},
   "source": [
    "#### Method 2: Using Hash Map (Python Dictionaries)\n",
    "(Returns only distinct pairs i.e. if (x, y) is appeared twice or more returned just once)"
   ]
  },
  {
   "cell_type": "code",
   "execution_count": 9,
   "metadata": {},
   "outputs": [],
   "source": [
    "def two_sum_hash_map(arr, target):\n",
    "    hash_map = {}\n",
    "#   This element (True or False) is to eliminate duplicates from adding into the pairs\n",
    "# i.e. only distinct pairs are added\n",
    "    pair_added = False\n",
    "    for ele in arr:\n",
    "        if hash_map.get(ele):\n",
    "            hash_map[ele][1] += 1\n",
    "        else:\n",
    "            hash_map[ele] = [target-ele, 1, pair_added]\n",
    "    pairs = []\n",
    "    for key, value in hash_map.items():\n",
    "        if 2*key == target and not value[2]:\n",
    "            if value[1] > 1:\n",
    "                pairs.append((key, value[0]))\n",
    "                hash_map[key][2] = True\n",
    "                hash_map[value[0]][2] = True\n",
    "        elif hash_map.get(value[0]) and not value[2]:\n",
    "            pairs.append((key, value[0]))\n",
    "            hash_map[key][2] = True\n",
    "            hash_map[value[0]][2] = True\n",
    "    return pairs"
   ]
  },
  {
   "cell_type": "code",
   "execution_count": 17,
   "metadata": {},
   "outputs": [
    {
     "data": {
      "text/plain": [
       "[(-8, 6), (-5, 3), (1, -3), (-1, -1), (8, -10)]"
      ]
     },
     "execution_count": 17,
     "metadata": {},
     "output_type": "execute_result"
    }
   ],
   "source": [
    "lst = [-8, -5, -2, 1, -1, -1, -1, -1, 6, 8, -8, 3, 4, -3, -10, 6]\n",
    "two_sum_hash_map(lst, -2)"
   ]
  },
  {
   "cell_type": "code",
   "execution_count": 12,
   "metadata": {},
   "outputs": [
    {
     "data": {
      "text/plain": [
       "[(6, -8), (5, -7)]"
      ]
     },
     "execution_count": 12,
     "metadata": {},
     "output_type": "execute_result"
    }
   ],
   "source": [
    "lst = [6, 5, 6, -7, -8, -8, -2, 8, -8, -8]\n",
    "two_sum_hash_map(lst, -2)"
   ]
  },
  {
   "cell_type": "markdown",
   "metadata": {},
   "source": [
    "#### Method 3: Extension to previous Method 2 (Along with pairs it also gives count)\n",
    "(i.e. how many of same (x, y) pair are present as there are repeated elements)"
   ]
  },
  {
   "cell_type": "code",
   "execution_count": 13,
   "metadata": {},
   "outputs": [],
   "source": [
    "def two_sum_hash_map_with_count(arr, target):\n",
    "    hash_map = {}\n",
    "#   This element (True or False) is to eliminate duplicates from adding into the pairs\n",
    "    pair_added = False\n",
    "    for ele in arr:\n",
    "        if hash_map.get(ele):\n",
    "            hash_map[ele][1] += 1\n",
    "        else:\n",
    "            hash_map[ele] = [target-ele, 1, pair_added]\n",
    "\n",
    "    pairs = []\n",
    "    for key, value in hash_map.items():\n",
    "        if 2*key == target and not value[2]:\n",
    "            if value[1] > 1:\n",
    "                pairs.append([(key, value[0]), 'count={}'.format(value[1]//2)])\n",
    "                hash_map[key][2] = True\n",
    "                hash_map[value[0]][2] = True\n",
    "        elif hash_map.get(value[0]) and not value[2]:\n",
    "            pairs.append([(key, value[0]), 'count={}'.format(min(hash_map[value[0]][1], value[1]))])\n",
    "            hash_map[key][2] = True\n",
    "            hash_map[value[0]][2] = True\n",
    "    return pairs"
   ]
  },
  {
   "cell_type": "code",
   "execution_count": 15,
   "metadata": {},
   "outputs": [
    {
     "data": {
      "text/plain": [
       "[[(-8, 6), 'count=2'],\n",
       " [(-5, 3), 'count=1'],\n",
       " [(1, -3), 'count=1'],\n",
       " [(-1, -1), 'count=2'],\n",
       " [(8, -10), 'count=1']]"
      ]
     },
     "execution_count": 15,
     "metadata": {},
     "output_type": "execute_result"
    }
   ],
   "source": [
    "lst = [-8, -5, -2, 1, -1, -1, -1, -1, 6, 8, -8, 3, 4, -3, -10, 6]\n",
    "two_sum_hash_map_with_count(lst, -2)"
   ]
  },
  {
   "cell_type": "code",
   "execution_count": 20,
   "metadata": {},
   "outputs": [
    {
     "data": {
      "text/plain": [
       "[[(6, -8), 'count=2'], [(5, -7), 'count=1']]"
      ]
     },
     "execution_count": 20,
     "metadata": {},
     "output_type": "execute_result"
    }
   ],
   "source": [
    "lst = [6, 5, 6, -7, -8, -8, -2, 8, -8, -8]\n",
    "two_sum_hash_map_with_count(lst, -2)"
   ]
  },
  {
   "cell_type": "code",
   "execution_count": null,
   "metadata": {},
   "outputs": [],
   "source": []
  }
 ],
 "metadata": {
  "kernelspec": {
   "display_name": "Python 3",
   "language": "python",
   "name": "python3"
  },
  "language_info": {
   "codemirror_mode": {
    "name": "ipython",
    "version": 3
   },
   "file_extension": ".py",
   "mimetype": "text/x-python",
   "name": "python",
   "nbconvert_exporter": "python",
   "pygments_lexer": "ipython3",
   "version": "3.7.5"
  }
 },
 "nbformat": 4,
 "nbformat_minor": 4
}
